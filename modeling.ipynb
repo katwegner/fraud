{
 "cells": [
  {
   "cell_type": "markdown",
   "metadata": {},
   "source": [
    "# Modeling of Fraud Detection"
   ]
  },
  {
   "cell_type": "markdown",
   "metadata": {},
   "source": [
    "### Initiation"
   ]
  },
  {
   "cell_type": "code",
   "execution_count": 32,
   "metadata": {},
   "outputs": [],
   "source": [
    "import pandas as pd\n",
    "import numpy as np\n",
    "import seaborn as sns\n",
    "import matplotlib.pyplot as plt\n",
    "from datetime import datetime, date, time, timedelta\n",
    "from sklearn.metrics import accuracy_score, precision_score, recall_score, f1_score, roc_auc_score, roc_curve\n",
    "from sklearn.model_selection import train_test_split\n",
    "#importing over and undersampling algorithms from imblearn (you will have to manually install it in your envoirenment with pip install imblearn) \n",
    "from imblearn.over_sampling import SMOTE\n",
    "from imblearn.under_sampling import RandomUnderSampler\n",
    "from sklearn.metrics import confusion_matrix\n",
    "import itertools\n",
    "from sklearn.svm import SVC\n",
    "from sklearn.ensemble import AdaBoostClassifier\n",
    "from sklearn.ensemble import RandomForestClassifier\n",
    "from sklearn.linear_model import LogisticRegression\n",
    "from sklearn.neighbors import KNeighborsClassifier\n",
    "from sklearn.naive_bayes import MultinomialNB"
   ]
  },
  {
   "cell_type": "code",
   "execution_count": 21,
   "metadata": {},
   "outputs": [],
   "source": [
    "# important functions\n",
    "def plot_confusion_matrix(cm, classes,\n",
    "                          normalize=False,\n",
    "                          title='Confusion matrix',\n",
    "                          cmap=plt.cm.Oranges):\n",
    "    \"\"\"\n",
    "    This function prints and plots the confusion matrix.\n",
    "    Normalization can be applied by setting `normalize=True`.\n",
    "    Source: http://scikit-learn.org/stable/auto_examples/model_selection/plot_confusion_matrix.html\n",
    "    \"\"\"\n",
    "    if normalize:\n",
    "        cm = cm.astype('float') / cm.sum(axis=1)[:, np.newaxis]\n",
    "        print(\"Normalized confusion matrix\")\n",
    "    else:\n",
    "        print('Confusion matrix, without normalization')\n",
    "\n",
    "    print(cm)\n",
    "\n",
    "    # Plot the confusion matrix\n",
    "    plt.figure(figsize = (10, 10))\n",
    "    plt.imshow(cm, interpolation='nearest', cmap=cmap)\n",
    "    plt.title(title, size = 24)\n",
    "    plt.colorbar(aspect=4)\n",
    "    tick_marks = np.arange(len(classes))\n",
    "    plt.xticks(tick_marks, classes, rotation=45, size = 14)\n",
    "    plt.yticks(tick_marks, classes, size = 14)\n",
    "\n",
    "    fmt = '.2f' if normalize else 'd'\n",
    "    thresh = cm.max() / 2.\n",
    "    \n",
    "    # Labeling the plot\n",
    "    for i, j in itertools.product(range(cm.shape[0]), range(cm.shape[1])):\n",
    "        plt.text(j, i, format(cm[i, j], fmt), fontsize = 20,\n",
    "                 horizontalalignment=\"center\",\n",
    "                 color=\"white\" if cm[i, j] > thresh else \"black\")\n",
    "        \n",
    "    plt.grid(None)\n",
    "    plt.tight_layout()\n",
    "    plt.ylabel('True label', size = 18)\n",
    "    plt.xlabel('Predicted label', size = 18)\n",
    "\n",
    "def print_evaluations(y,predictions):\n",
    "    print(f\"Accuracy: {accuracy_score(y, predictions)}\")\n",
    "    print(f\"Precision: {precision_score(y, predictions)}\")\n",
    "    print(f\"Recall: {recall_score(y, predictions)}\")\n",
    "    print(f\"F1: {f1_score(y, predictions)}\")\n"
   ]
  },
  {
   "cell_type": "code",
   "execution_count": 19,
   "metadata": {},
   "outputs": [
    {
     "data": {
      "text/html": [
       "<div>\n",
       "<style scoped>\n",
       "    .dataframe tbody tr th:only-of-type {\n",
       "        vertical-align: middle;\n",
       "    }\n",
       "\n",
       "    .dataframe tbody tr th {\n",
       "        vertical-align: top;\n",
       "    }\n",
       "\n",
       "    .dataframe thead th {\n",
       "        text-align: right;\n",
       "    }\n",
       "</style>\n",
       "<table border=\"1\" class=\"dataframe\">\n",
       "  <thead>\n",
       "    <tr style=\"text-align: right;\">\n",
       "      <th></th>\n",
       "      <th>Value</th>\n",
       "      <th>PricingStrategy</th>\n",
       "      <th>Hour</th>\n",
       "      <th>DirectionOfMoney</th>\n",
       "      <th>ProviderId_ProviderId_1</th>\n",
       "      <th>ProviderId_ProviderId_2</th>\n",
       "      <th>ProviderId_ProviderId_3</th>\n",
       "      <th>ProviderId_ProviderId_4</th>\n",
       "      <th>ProviderId_ProviderId_5</th>\n",
       "      <th>ProviderId_ProviderId_6</th>\n",
       "      <th>...</th>\n",
       "      <th>ProductCategory_airtime</th>\n",
       "      <th>ProductCategory_data_bundles</th>\n",
       "      <th>ProductCategory_financial_services</th>\n",
       "      <th>ProductCategory_movies</th>\n",
       "      <th>ProductCategory_other</th>\n",
       "      <th>ProductCategory_ticket</th>\n",
       "      <th>ProductCategory_transport</th>\n",
       "      <th>ProductCategory_tv</th>\n",
       "      <th>ProductCategory_utility_bill</th>\n",
       "      <th>Valuelog</th>\n",
       "    </tr>\n",
       "  </thead>\n",
       "  <tbody>\n",
       "    <tr>\n",
       "      <th>0</th>\n",
       "      <td>1000</td>\n",
       "      <td>2</td>\n",
       "      <td>2</td>\n",
       "      <td>0.0</td>\n",
       "      <td>0</td>\n",
       "      <td>0</td>\n",
       "      <td>0</td>\n",
       "      <td>0</td>\n",
       "      <td>0</td>\n",
       "      <td>1</td>\n",
       "      <td>...</td>\n",
       "      <td>1</td>\n",
       "      <td>0</td>\n",
       "      <td>0</td>\n",
       "      <td>0</td>\n",
       "      <td>0</td>\n",
       "      <td>0</td>\n",
       "      <td>0</td>\n",
       "      <td>0</td>\n",
       "      <td>0</td>\n",
       "      <td>6.907755</td>\n",
       "    </tr>\n",
       "    <tr>\n",
       "      <th>1</th>\n",
       "      <td>20</td>\n",
       "      <td>2</td>\n",
       "      <td>2</td>\n",
       "      <td>1.0</td>\n",
       "      <td>0</td>\n",
       "      <td>0</td>\n",
       "      <td>0</td>\n",
       "      <td>1</td>\n",
       "      <td>0</td>\n",
       "      <td>0</td>\n",
       "      <td>...</td>\n",
       "      <td>0</td>\n",
       "      <td>0</td>\n",
       "      <td>1</td>\n",
       "      <td>0</td>\n",
       "      <td>0</td>\n",
       "      <td>0</td>\n",
       "      <td>0</td>\n",
       "      <td>0</td>\n",
       "      <td>0</td>\n",
       "      <td>2.995732</td>\n",
       "    </tr>\n",
       "    <tr>\n",
       "      <th>2</th>\n",
       "      <td>500</td>\n",
       "      <td>2</td>\n",
       "      <td>2</td>\n",
       "      <td>0.0</td>\n",
       "      <td>0</td>\n",
       "      <td>0</td>\n",
       "      <td>0</td>\n",
       "      <td>0</td>\n",
       "      <td>0</td>\n",
       "      <td>1</td>\n",
       "      <td>...</td>\n",
       "      <td>1</td>\n",
       "      <td>0</td>\n",
       "      <td>0</td>\n",
       "      <td>0</td>\n",
       "      <td>0</td>\n",
       "      <td>0</td>\n",
       "      <td>0</td>\n",
       "      <td>0</td>\n",
       "      <td>0</td>\n",
       "      <td>6.214608</td>\n",
       "    </tr>\n",
       "    <tr>\n",
       "      <th>3</th>\n",
       "      <td>21800</td>\n",
       "      <td>2</td>\n",
       "      <td>3</td>\n",
       "      <td>0.0</td>\n",
       "      <td>1</td>\n",
       "      <td>0</td>\n",
       "      <td>0</td>\n",
       "      <td>0</td>\n",
       "      <td>0</td>\n",
       "      <td>0</td>\n",
       "      <td>...</td>\n",
       "      <td>0</td>\n",
       "      <td>0</td>\n",
       "      <td>0</td>\n",
       "      <td>0</td>\n",
       "      <td>0</td>\n",
       "      <td>0</td>\n",
       "      <td>0</td>\n",
       "      <td>0</td>\n",
       "      <td>1</td>\n",
       "      <td>9.989665</td>\n",
       "    </tr>\n",
       "    <tr>\n",
       "      <th>4</th>\n",
       "      <td>644</td>\n",
       "      <td>2</td>\n",
       "      <td>3</td>\n",
       "      <td>1.0</td>\n",
       "      <td>0</td>\n",
       "      <td>0</td>\n",
       "      <td>0</td>\n",
       "      <td>1</td>\n",
       "      <td>0</td>\n",
       "      <td>0</td>\n",
       "      <td>...</td>\n",
       "      <td>0</td>\n",
       "      <td>0</td>\n",
       "      <td>1</td>\n",
       "      <td>0</td>\n",
       "      <td>0</td>\n",
       "      <td>0</td>\n",
       "      <td>0</td>\n",
       "      <td>0</td>\n",
       "      <td>0</td>\n",
       "      <td>6.467699</td>\n",
       "    </tr>\n",
       "  </tbody>\n",
       "</table>\n",
       "<p>5 rows × 47 columns</p>\n",
       "</div>"
      ],
      "text/plain": [
       "   Value  PricingStrategy  Hour  DirectionOfMoney  ProviderId_ProviderId_1  \\\n",
       "0   1000                2     2               0.0                        0   \n",
       "1     20                2     2               1.0                        0   \n",
       "2    500                2     2               0.0                        0   \n",
       "3  21800                2     3               0.0                        1   \n",
       "4    644                2     3               1.0                        0   \n",
       "\n",
       "   ProviderId_ProviderId_2  ProviderId_ProviderId_3  ProviderId_ProviderId_4  \\\n",
       "0                        0                        0                        0   \n",
       "1                        0                        0                        1   \n",
       "2                        0                        0                        0   \n",
       "3                        0                        0                        0   \n",
       "4                        0                        0                        1   \n",
       "\n",
       "   ProviderId_ProviderId_5  ProviderId_ProviderId_6  ...  \\\n",
       "0                        0                        1  ...   \n",
       "1                        0                        0  ...   \n",
       "2                        0                        1  ...   \n",
       "3                        0                        0  ...   \n",
       "4                        0                        0  ...   \n",
       "\n",
       "   ProductCategory_airtime  ProductCategory_data_bundles  \\\n",
       "0                        1                             0   \n",
       "1                        0                             0   \n",
       "2                        1                             0   \n",
       "3                        0                             0   \n",
       "4                        0                             0   \n",
       "\n",
       "   ProductCategory_financial_services  ProductCategory_movies  \\\n",
       "0                                   0                       0   \n",
       "1                                   1                       0   \n",
       "2                                   0                       0   \n",
       "3                                   0                       0   \n",
       "4                                   1                       0   \n",
       "\n",
       "   ProductCategory_other  ProductCategory_ticket  ProductCategory_transport  \\\n",
       "0                      0                       0                          0   \n",
       "1                      0                       0                          0   \n",
       "2                      0                       0                          0   \n",
       "3                      0                       0                          0   \n",
       "4                      0                       0                          0   \n",
       "\n",
       "   ProductCategory_tv  ProductCategory_utility_bill  Valuelog  \n",
       "0                   0                             0  6.907755  \n",
       "1                   0                             0  2.995732  \n",
       "2                   0                             0  6.214608  \n",
       "3                   0                             1  9.989665  \n",
       "4                   0                             0  6.467699  \n",
       "\n",
       "[5 rows x 47 columns]"
      ]
     },
     "execution_count": 19,
     "metadata": {},
     "output_type": "execute_result"
    }
   ],
   "source": [
    "X = pd.read_csv('./data/X.csv', index_col='Unnamed: 0')\n",
    "y = pd.read_csv('./data/y.csv', index_col='Unnamed: 0')\n"
   ]
  },
  {
   "cell_type": "code",
   "execution_count": 33,
   "metadata": {},
   "outputs": [
    {
     "data": {
      "text/plain": [
       "Index(['Value', 'PricingStrategy', 'Hour', 'DirectionOfMoney',\n",
       "       'ProviderId_ProviderId_1', 'ProviderId_ProviderId_2',\n",
       "       'ProviderId_ProviderId_3', 'ProviderId_ProviderId_4',\n",
       "       'ProviderId_ProviderId_5', 'ProviderId_ProviderId_6',\n",
       "       'ProductId_ProductId_1', 'ProductId_ProductId_10',\n",
       "       'ProductId_ProductId_11', 'ProductId_ProductId_12',\n",
       "       'ProductId_ProductId_13', 'ProductId_ProductId_14',\n",
       "       'ProductId_ProductId_15', 'ProductId_ProductId_16',\n",
       "       'ProductId_ProductId_19', 'ProductId_ProductId_2',\n",
       "       'ProductId_ProductId_20', 'ProductId_ProductId_21',\n",
       "       'ProductId_ProductId_22', 'ProductId_ProductId_23',\n",
       "       'ProductId_ProductId_24', 'ProductId_ProductId_27',\n",
       "       'ProductId_ProductId_3', 'ProductId_ProductId_4',\n",
       "       'ProductId_ProductId_5', 'ProductId_ProductId_6',\n",
       "       'ProductId_ProductId_7', 'ProductId_ProductId_8',\n",
       "       'ProductId_ProductId_9', 'ChannelId_ChannelId_1',\n",
       "       'ChannelId_ChannelId_2', 'ChannelId_ChannelId_3',\n",
       "       'ChannelId_ChannelId_5', 'ProductCategory_airtime',\n",
       "       'ProductCategory_data_bundles', 'ProductCategory_financial_services',\n",
       "       'ProductCategory_movies', 'ProductCategory_other',\n",
       "       'ProductCategory_ticket', 'ProductCategory_transport',\n",
       "       'ProductCategory_tv', 'ProductCategory_utility_bill', 'Valuelog'],\n",
       "      dtype='object')"
      ]
     },
     "execution_count": 33,
     "metadata": {},
     "output_type": "execute_result"
    }
   ],
   "source": [
    "X.columns"
   ]
  },
  {
   "cell_type": "markdown",
   "metadata": {},
   "source": [
    "### Split into train and test"
   ]
  },
  {
   "cell_type": "code",
   "execution_count": 22,
   "metadata": {},
   "outputs": [],
   "source": [
    "#splitting data into train and test\n",
    "X_train, X_test, y_train, y_test = train_test_split(X, y, test_size=0.33, random_state=42)"
   ]
  },
  {
   "cell_type": "markdown",
   "metadata": {},
   "source": [
    "### Resample the data\n",
    "\n",
    "#### 1. Oversample Frauds"
   ]
  },
  {
   "cell_type": "code",
   "execution_count": 27,
   "metadata": {},
   "outputs": [
    {
     "data": {
      "text/plain": [
       "FraudResult    0.5\n",
       "dtype: float64"
      ]
     },
     "execution_count": 27,
     "metadata": {},
     "output_type": "execute_result"
    }
   ],
   "source": [
    "from imblearn.over_sampling import RandomOverSampler\n",
    "ros = RandomOverSampler(random_state=42)\n",
    "X_over, y_over = ros.fit_resample(X_train, y_train)\n",
    "\n",
    "np.mean(y_over)"
   ]
  },
  {
   "cell_type": "markdown",
   "metadata": {},
   "source": [
    "#### 2. Create Synthetic Fraud Data"
   ]
  },
  {
   "cell_type": "code",
   "execution_count": 28,
   "metadata": {},
   "outputs": [
    {
     "data": {
      "text/plain": [
       "FraudResult    0.5\n",
       "dtype: float64"
      ]
     },
     "execution_count": 28,
     "metadata": {},
     "output_type": "execute_result"
    }
   ],
   "source": [
    "#used smote algorithm (synthetic oversampling) to oversample fradulent class\n",
    "# dataframes of synthetic datapoints: smote_data_X, smote_data_Y\n",
    "smote_algo = SMOTE(random_state=50)\n",
    "X_syn, y_syn = smote_algo.fit_resample(X_train, y_train)\n",
    "X_syn = pd.DataFrame(data=X_syn, columns=X_train.columns)\n",
    "y_syn = pd.DataFrame(data=y_syn, columns=['FraudResult'])\n",
    "np.mean(y_syn)"
   ]
  },
  {
   "cell_type": "markdown",
   "metadata": {},
   "source": [
    "#### 3. Undersample Non-Frauds"
   ]
  },
  {
   "cell_type": "code",
   "execution_count": 29,
   "metadata": {},
   "outputs": [
    {
     "data": {
      "text/plain": [
       "FraudResult    0.5\n",
       "dtype: float64"
      ]
     },
     "execution_count": 29,
     "metadata": {},
     "output_type": "execute_result"
    }
   ],
   "source": [
    "# used randomundersampler algorithm to undersample non fradulent class\n",
    "# dataframes for undersampled data: X_res, y_res\n",
    "rus = RandomUnderSampler(random_state=50)\n",
    "X_under, y_under = rus.fit_resample(X_train, y_train)\n",
    "np.mean(y_under)"
   ]
  },
  {
   "cell_type": "markdown",
   "metadata": {},
   "source": [
    "# Model fitting"
   ]
  },
  {
   "cell_type": "code",
   "execution_count": 39,
   "metadata": {},
   "outputs": [
    {
     "name": "stderr",
     "output_type": "stream",
     "text": [
      "/var/folders/wp/ylcd0z3n66jgx_wrcv4p13v80000gn/T/ipykernel_19881/3885378266.py:9: DataConversionWarning: A column-vector y was passed when a 1d array was expected. Please change the shape of y to (n_samples,), for example using ravel().\n",
      "  model_rf.fit(X_input, y_input)\n",
      "[Parallel(n_jobs=-1)]: Using backend ThreadingBackend with 8 concurrent workers.\n",
      "[Parallel(n_jobs=-1)]: Done  34 tasks      | elapsed:    0.4s\n",
      "[Parallel(n_jobs=-1)]: Done 100 out of 100 | elapsed:    1.0s finished\n",
      "/Users/kw/neuefische/fraud/.venv/lib/python3.9/site-packages/sklearn/utils/validation.py:993: DataConversionWarning: A column-vector y was passed when a 1d array was expected. Please change the shape of y to (n_samples, ), for example using ravel().\n",
      "  y = column_or_1d(y, warn=True)\n",
      "/Users/kw/neuefische/fraud/.venv/lib/python3.9/site-packages/sklearn/neighbors/_classification.py:198: DataConversionWarning: A column-vector y was passed when a 1d array was expected. Please change the shape of y to (n_samples,), for example using ravel().\n",
      "  return self._fit(X, y)\n",
      "/Users/kw/neuefische/fraud/.venv/lib/python3.9/site-packages/sklearn/utils/validation.py:993: DataConversionWarning: A column-vector y was passed when a 1d array was expected. Please change the shape of y to (n_samples, ), for example using ravel().\n",
      "  y = column_or_1d(y, warn=True)\n",
      "/Users/kw/neuefische/fraud/.venv/lib/python3.9/site-packages/sklearn/utils/validation.py:993: DataConversionWarning: A column-vector y was passed when a 1d array was expected. Please change the shape of y to (n_samples, ), for example using ravel().\n",
      "  y = column_or_1d(y, warn=True)\n"
     ]
    }
   ],
   "source": [
    "X_input = X_over\n",
    "y_input = y_over\n",
    "\n",
    "# random forest\n",
    "model_rf = RandomForestClassifier(n_estimators=100, \n",
    "                               random_state=50, \n",
    "                               max_features = 'sqrt',\n",
    "                               n_jobs=-1, verbose = 1)\n",
    "model_rf.fit(X_input, y_input)\n",
    "\n",
    "# logistic\n",
    "model_log = LogisticRegression(random_state=50).fit(X_input, y_input)\n",
    "\n",
    "# knn\n",
    "model_knn = KNeighborsClassifier(n_neighbors=5)\n",
    "model_knn.fit(X_input, y_input)\n",
    "\n",
    "# naive\n",
    "model_naive = MultinomialNB()\n",
    "model_naive.fit(X_input, y_input)\n",
    "\n",
    "# svm\n",
    "model_svm = SVC(random_state = 50, probability = True)\n",
    "model_svm.fit(X_input, y_input)\n"
   ]
  },
  {
   "cell_type": "markdown",
   "metadata": {},
   "source": [
    "Evaluation of Train Data"
   ]
  },
  {
   "cell_type": "code",
   "execution_count": 35,
   "metadata": {},
   "outputs": [
    {
     "name": "stderr",
     "output_type": "stream",
     "text": [
      "[Parallel(n_jobs=8)]: Using backend ThreadingBackend with 8 concurrent workers.\n",
      "[Parallel(n_jobs=8)]: Done  34 tasks      | elapsed:    0.0s\n",
      "[Parallel(n_jobs=8)]: Done 100 out of 100 | elapsed:    0.0s finished\n",
      "[Parallel(n_jobs=8)]: Using backend ThreadingBackend with 8 concurrent workers.\n",
      "[Parallel(n_jobs=8)]: Done  34 tasks      | elapsed:    0.0s\n",
      "[Parallel(n_jobs=8)]: Done 100 out of 100 | elapsed:    0.0s finished\n"
     ]
    }
   ],
   "source": [
    "# rf\n",
    "train_rf_predictions = model_rf.predict(X_input)\n",
    "train_rf_probs = model_rf.predict_proba(X_input)[:, 1]\n",
    "\n",
    "# log\n",
    "train_log_predictions = model_log.predict(X_input)\n",
    "train_log_probs = model_log.predict_proba(X_input)[:, 1]\n",
    "\n",
    "# knn\n",
    "train_knn_predictions = model_knn.predict(X_input)\n",
    "train_knn_probs = model_knn.predict_proba(X_input)[:, 1]\n",
    "\n",
    "#naive\n",
    "train_naive_predictions = model_naive.predict(X_input)\n",
    "train_naive_probs = model_naive.predict_proba(X_input)[:, 1]\n",
    "\n",
    "# svm\n",
    "train_svm_predictions = model_svm.predict(X_input)\n",
    "train_svm_probs = model_svm.predict_proba(X_input)[:, 1]"
   ]
  },
  {
   "cell_type": "code",
   "execution_count": 37,
   "metadata": {},
   "outputs": [
    {
     "name": "stdout",
     "output_type": "stream",
     "text": [
      "0\n",
      "Accuracy: 0.99609375\n",
      "Precision: 0.9922480620155039\n",
      "Recall: 1.0\n",
      "F1: 0.9961089494163424\n",
      "1\n",
      "Accuracy: 0.984375\n",
      "Precision: 0.984375\n",
      "Recall: 0.984375\n",
      "F1: 0.984375\n",
      "2\n",
      "Accuracy: 0.984375\n",
      "Precision: 0.984375\n",
      "Recall: 0.984375\n",
      "F1: 0.984375\n",
      "3\n",
      "Accuracy: 0.984375\n",
      "Precision: 0.9769230769230769\n",
      "Recall: 0.9921875\n",
      "F1: 0.9844961240310077\n",
      "4\n",
      "Accuracy: 0.95703125\n",
      "Precision: 1.0\n",
      "Recall: 0.9140625\n",
      "F1: 0.9551020408163265\n"
     ]
    }
   ],
   "source": [
    "for i,p in enumerate([train_rf_predictions, train_log_predictions, train_knn_predictions, train_naive_predictions, train_svm_predictions]):\n",
    "    print(i)\n",
    "    print_evaluations(y_input, p)\n"
   ]
  },
  {
   "cell_type": "code",
   "execution_count": 38,
   "metadata": {},
   "outputs": [
    {
     "name": "stderr",
     "output_type": "stream",
     "text": [
      "[Parallel(n_jobs=8)]: Using backend ThreadingBackend with 8 concurrent workers.\n",
      "[Parallel(n_jobs=8)]: Done  34 tasks      | elapsed:    0.0s\n",
      "[Parallel(n_jobs=8)]: Done 100 out of 100 | elapsed:    0.1s finished\n",
      "[Parallel(n_jobs=8)]: Using backend ThreadingBackend with 8 concurrent workers.\n",
      "[Parallel(n_jobs=8)]: Done  34 tasks      | elapsed:    0.0s\n",
      "[Parallel(n_jobs=8)]: Done 100 out of 100 | elapsed:    0.0s finished\n"
     ]
    },
    {
     "name": "stdout",
     "output_type": "stream",
     "text": [
      "0\n",
      "Accuracy: 0.9915423358357883\n",
      "Precision: 0.19207317073170732\n",
      "Recall: 0.9692307692307692\n",
      "F1: 0.3206106870229008\n",
      "1\n",
      "Accuracy: 0.9856188032563591\n",
      "Precision: 0.12085769980506822\n",
      "Recall: 0.9538461538461539\n",
      "F1: 0.21453287197231832\n",
      "2\n",
      "Accuracy: 0.9892299407646742\n",
      "Precision: 0.15538847117794485\n",
      "Recall: 0.9538461538461539\n",
      "F1: 0.2672413793103448\n",
      "3\n",
      "Accuracy: 0.9731698818461149\n",
      "Precision: 0.07032967032967033\n",
      "Recall: 0.9846153846153847\n",
      "F1: 0.13128205128205128\n",
      "4\n",
      "Accuracy: 0.9979093414425544\n",
      "Precision: 0.49572649572649574\n",
      "Recall: 0.8923076923076924\n",
      "F1: 0.6373626373626374\n"
     ]
    }
   ],
   "source": [
    "# rf\n",
    "test_rf_predictions = model_rf.predict(X_test)\n",
    "test_rf_probs = model_rf.predict_proba(X_test)[:, 1]\n",
    "\n",
    "# log\n",
    "test_log_predictions = model_log.predict(X_test)\n",
    "test_log_probs = model_log.predict_proba(X_test)[:, 1]\n",
    "\n",
    "# knn\n",
    "test_knn_predictions = model_knn.predict(X_test)\n",
    "test_knn_probs = model_knn.predict_proba(X_test)[:, 1]\n",
    "\n",
    "#naive\n",
    "test_naive_predictions = model_naive.predict(X_test)\n",
    "test_naive_probs = model_naive.predict_proba(X_test)[:, 1]\n",
    "\n",
    "# svm\n",
    "test_svm_predictions = model_svm.predict(X_test)\n",
    "test_svm_probs = model_svm.predict_proba(X_test)[:, 1]\n",
    "\n",
    "for i,p in enumerate([test_rf_predictions, test_log_predictions, test_knn_predictions, test_naive_predictions, test_svm_predictions]):\n",
    "    print(i)\n",
    "    print_evaluations(y_test, p)"
   ]
  },
  {
   "cell_type": "code",
   "execution_count": null,
   "metadata": {},
   "outputs": [],
   "source": [
    "# Training predictions (to demonstrate overfitting)\n",
    "train_rf_predictions = model_rf.predict(smote_data_X)\n",
    "train_rf_probs = model_rf.predict_proba(smote_data_X)[:, 1]\n",
    "\n",
    "# Testing predictions (to determine performance)\n",
    "test_rf_predictions = model_rf.predict(X_test)\n",
    "test_rf_probs = model_rf.predict_proba(X_test)[:, 1]\n",
    "\n",
    "# Confusion matrix\n",
    "cm = confusion_matrix(y_test, test_rf_predictions)\n",
    "plot_confusion_matrix(cm, classes = ['Fraud', 'No Fraud'],\n",
    "                      title = 'Fraud Confusion Matrix')\n",
    "\n",
    "print_evaluations(y_test, test_rf_predictions)\n"
   ]
  },
  {
   "cell_type": "code",
   "execution_count": null,
   "metadata": {},
   "outputs": [],
   "source": [
    "cm = confusion_matrix(smote_data_Y, train_rf_predictions)\n",
    "plot_confusion_matrix(cm, classes = ['Fraud', 'No Fraud'],\n",
    "                      title = 'Fraud Confusion Matrix')\n",
    "print_evaluations(smote_data_Y, train_rf_predictions)"
   ]
  },
  {
   "cell_type": "code",
   "execution_count": null,
   "metadata": {},
   "outputs": [],
   "source": [
    "model_svm = SVC(random_state = 50, probability = True)\n",
    "model_svm.fit(smote_data_X, smote_data_Y)\n",
    "\n",
    "# Training predictions (to demonstrate overfitting)\n",
    "train_svm_predictions = model_svm.predict(smote_data_X)\n",
    "train_svm_probs = model_svm.predict_proba(smote_data_X)[:, 1]\n",
    "\n",
    "# Testing predictions (to determine performance)\n",
    "test_svm_predictions = model_svm.predict(X_test)\n",
    "test_svm_probs = model_svm.predict_proba(X_test)[:, 1]\n",
    "\n",
    "# Confusion matrix\n",
    "cm = confusion_matrix(y_test, test_svm_predictions)\n",
    "plot_confusion_matrix(cm, classes = ['Fraud', 'No Fraud'],\n",
    "                      title = 'Fraud Confusion Matrix')\n",
    "\n",
    "print_evaluations(y_test, test_svm_predictions)"
   ]
  },
  {
   "cell_type": "code",
   "execution_count": null,
   "metadata": {},
   "outputs": [],
   "source": [
    "model_adaboost =  AdaBoostClassifier(random_state = 50)\n",
    "model_adaboost.fit(smote_data_X, smote_data_Y)\n",
    "\n",
    "# Training predictions (to demonstrate overfitting)\n",
    "train_adaboost_predictions = model_adaboost.predict(smote_data_X)\n",
    "train_adaboost_probs = model_adaboost.predict_proba(smote_data_X)[:, 1]\n",
    "\n",
    "# Testing predictions (to determine performance)\n",
    "test_adaboost_predictions = model_adaboost.predict(X_test)\n",
    "test_adaboost_probs = model_adaboost.predict_proba(X_test)[:, 1]\n",
    "\n",
    "# Confusion matrix\n",
    "cm = confusion_matrix(y_test, test_adaboost_predictions)\n",
    "plot_confusion_matrix(cm, classes = ['Fraud', 'No Fraud'],\n",
    "                      title = 'Fraud Confusion Matrix')\n",
    "\n",
    "print_evaluations(y_test, test_adaboost_predictions)"
   ]
  },
  {
   "cell_type": "code",
   "execution_count": null,
   "metadata": {},
   "outputs": [],
   "source": []
  }
 ],
 "metadata": {
  "interpreter": {
   "hash": "c8f0a704e52d708eeb646c3f2c284e75ffefcbe300803376c50091c097674410"
  },
  "kernelspec": {
   "display_name": "Python 3.9.8 ('.venv': venv)",
   "language": "python",
   "name": "python3"
  },
  "language_info": {
   "codemirror_mode": {
    "name": "ipython",
    "version": 3
   },
   "file_extension": ".py",
   "mimetype": "text/x-python",
   "name": "python",
   "nbconvert_exporter": "python",
   "pygments_lexer": "ipython3",
   "version": "3.9.8"
  },
  "orig_nbformat": 4
 },
 "nbformat": 4,
 "nbformat_minor": 2
}
