{
 "cells": [
  {
   "cell_type": "markdown",
   "metadata": {},
   "source": [
    "# Modeling of Fraud Detection"
   ]
  },
  {
   "cell_type": "markdown",
   "metadata": {},
   "source": [
    "### Initiation"
   ]
  },
  {
   "cell_type": "code",
   "execution_count": 69,
   "metadata": {},
   "outputs": [],
   "source": [
    "import pandas as pd\n",
    "import numpy as np\n",
    "import seaborn as sns\n",
    "import matplotlib.pyplot as plt\n",
    "from datetime import datetime, date, time, timedelta\n",
    "from sklearn.metrics import accuracy_score, precision_score, recall_score, f1_score, roc_auc_score, roc_curve\n",
    "from sklearn.model_selection import train_test_split\n",
    "#importing over and undersampling algorithms from imblearn (you will have to manually install it in your envoirenment with pip install imblearn) \n",
    "from imblearn.over_sampling import SMOTE\n",
    "from imblearn.under_sampling import RandomUnderSampler\n",
    "from sklearn.metrics import confusion_matrix\n",
    "import itertools\n",
    "from sklearn.svm import SVC\n",
    "from sklearn.ensemble import AdaBoostClassifier\n",
    "from sklearn.ensemble import RandomForestClassifier\n",
    "from sklearn.linear_model import LogisticRegression\n",
    "from sklearn.neighbors import KNeighborsClassifier\n",
    "from sklearn.naive_bayes import MultinomialNB\n",
    "import xgboost as xgb\n",
    "import pickle"
   ]
  },
  {
   "cell_type": "code",
   "execution_count": 70,
   "metadata": {},
   "outputs": [],
   "source": [
    "# important functions\n",
    "def plot_confusion_matrix(cm, classes,\n",
    "                          normalize=False,\n",
    "                          title='Confusion matrix',\n",
    "                          cmap=plt.cm.Oranges):\n",
    "    \"\"\"\n",
    "    This function prints and plots the confusion matrix.\n",
    "    Normalization can be applied by setting `normalize=True`.\n",
    "    Source: http://scikit-learn.org/stable/auto_examples/model_selection/plot_confusion_matrix.html\n",
    "    \"\"\"\n",
    "    if normalize:\n",
    "        cm = cm.astype('float') / cm.sum(axis=1)[:, np.newaxis]\n",
    "        print(\"Normalized confusion matrix\")\n",
    "    else:\n",
    "        print('Confusion matrix, without normalization')\n",
    "\n",
    "    print(cm)\n",
    "\n",
    "    # Plot the confusion matrix\n",
    "    plt.figure(figsize = (10, 10))\n",
    "    plt.imshow(cm, interpolation='nearest', cmap=cmap)\n",
    "    plt.title(title, size = 24)\n",
    "    plt.colorbar(aspect=4)\n",
    "    tick_marks = np.arange(len(classes))\n",
    "    plt.xticks(tick_marks, classes, rotation=45, size = 14)\n",
    "    plt.yticks(tick_marks, classes, size = 14)\n",
    "\n",
    "    fmt = '.2f' if normalize else 'd'\n",
    "    thresh = cm.max() / 2.\n",
    "    \n",
    "    # Labeling the plot\n",
    "    for i, j in itertools.product(range(cm.shape[0]), range(cm.shape[1])):\n",
    "        plt.text(j, i, format(cm[i, j], fmt), fontsize = 20,\n",
    "                 horizontalalignment=\"center\",\n",
    "                 color=\"white\" if cm[i, j] > thresh else \"black\")\n",
    "        \n",
    "    plt.grid(None)\n",
    "    plt.tight_layout()\n",
    "    plt.ylabel('True label', size = 18)\n",
    "    plt.xlabel('Predicted label', size = 18)\n",
    "\n",
    "def print_evaluations(y,predictions):\n",
    "    print(f\"Accuracy: {accuracy_score(y, predictions)}\")\n",
    "    print(f\"Precision: {precision_score(y, predictions)}\")\n",
    "    print(f\"Recall: {recall_score(y, predictions)}\")\n",
    "    print(f\"F1: {f1_score(y, predictions)}\")\n"
   ]
  },
  {
   "cell_type": "code",
   "execution_count": 78,
   "metadata": {},
   "outputs": [],
   "source": [
    "X = pd.read_csv('./data/X.csv', index_col='Unnamed: 0')\n",
    "y = pd.read_csv('./data/y.csv', index_col='Unnamed: 0')\n"
   ]
  },
  {
   "cell_type": "code",
   "execution_count": 79,
   "metadata": {},
   "outputs": [
    {
     "data": {
      "text/plain": [
       "Index(['PricingStrategy_0', 'PricingStrategy_1', 'PricingStrategy_2',\n",
       "       'PricingStrategy_4', 'ProviderId_ProviderId_1',\n",
       "       'ProviderId_ProviderId_2', 'ProviderId_ProviderId_3',\n",
       "       'ProviderId_ProviderId_4', 'ProviderId_ProviderId_5',\n",
       "       'ProviderId_ProviderId_6', 'ProductId_ProductId_1',\n",
       "       'ProductId_ProductId_10', 'ProductId_ProductId_11',\n",
       "       'ProductId_ProductId_13', 'ProductId_ProductId_14',\n",
       "       'ProductId_ProductId_15', 'ProductId_ProductId_16',\n",
       "       'ProductId_ProductId_19', 'ProductId_ProductId_2',\n",
       "       'ProductId_ProductId_20', 'ProductId_ProductId_21',\n",
       "       'ProductId_ProductId_22', 'ProductId_ProductId_23',\n",
       "       'ProductId_ProductId_24', 'ProductId_ProductId_27',\n",
       "       'ProductId_ProductId_3', 'ProductId_ProductId_4',\n",
       "       'ProductId_ProductId_5', 'ProductId_ProductId_6',\n",
       "       'ProductId_ProductId_7', 'ProductId_ProductId_8',\n",
       "       'ProductId_ProductId_9', 'ChannelId_ChannelId_1',\n",
       "       'ChannelId_ChannelId_2', 'ChannelId_ChannelId_3',\n",
       "       'ChannelId_ChannelId_5', 'ProductCategory_airtime',\n",
       "       'ProductCategory_data_bundles', 'ProductCategory_financial_services',\n",
       "       'ProductCategory_movies', 'ProductCategory_ticket',\n",
       "       'ProductCategory_transport', 'ProductCategory_tv',\n",
       "       'ProductCategory_utility_bill', 'Hour_0', 'Hour_1', 'Hour_2', 'Hour_3',\n",
       "       'Hour_4', 'Hour_5', 'Hour_6', 'Hour_7', 'Hour_8', 'Hour_9', 'Hour_10',\n",
       "       'Hour_11', 'Hour_12', 'Hour_13', 'Hour_14', 'Hour_15', 'Hour_16',\n",
       "       'Hour_17', 'Hour_18', 'Hour_19', 'Hour_20', 'Hour_21', 'Hour_22',\n",
       "       'Hour_23', 'Value', 'DirectionOfMoney', 'ChannelId_ChannelId_4',\n",
       "       'ProductCategory_retail', 'ProductId_ProductId_17',\n",
       "       'ProductId_ProductId_18', 'ProductId_ProductId_25',\n",
       "       'ProductId_ProductId_26'],\n",
       "      dtype='object')"
      ]
     },
     "execution_count": 79,
     "metadata": {},
     "output_type": "execute_result"
    }
   ],
   "source": [
    "X.columns"
   ]
  },
  {
   "cell_type": "code",
   "execution_count": 64,
   "metadata": {},
   "outputs": [
    {
     "data": {
      "text/plain": [
       "75"
      ]
     },
     "execution_count": 64,
     "metadata": {},
     "output_type": "execute_result"
    }
   ],
   "source": [
    "len(X.columns)"
   ]
  },
  {
   "cell_type": "markdown",
   "metadata": {},
   "source": [
    "### Split into train and test"
   ]
  },
  {
   "cell_type": "code",
   "execution_count": 80,
   "metadata": {},
   "outputs": [],
   "source": [
    "#splitting data into train and test\n",
    "X_train, X_test, y_train, y_test = train_test_split(X, y, test_size=0.33, random_state=42)"
   ]
  },
  {
   "cell_type": "markdown",
   "metadata": {},
   "source": [
    "### Resample the data\n",
    "\n",
    "#### 1. Oversample Frauds"
   ]
  },
  {
   "cell_type": "code",
   "execution_count": 81,
   "metadata": {},
   "outputs": [
    {
     "name": "stderr",
     "output_type": "stream",
     "text": [
      "/Users/corneliusbohle/Desktop/neuefische/fraud/.venv/lib/python3.9/site-packages/numpy/core/fromnumeric.py:3472: FutureWarning: In a future version, DataFrame.mean(axis=None) will return a scalar mean over the entire DataFrame. To retain the old behavior, use 'frame.mean(axis=0)' or just 'frame.mean()'\n",
      "  return mean(axis=axis, dtype=dtype, out=out, **kwargs)\n"
     ]
    },
    {
     "data": {
      "text/plain": [
       "FraudResult    0.5\n",
       "dtype: float64"
      ]
     },
     "execution_count": 81,
     "metadata": {},
     "output_type": "execute_result"
    }
   ],
   "source": [
    "from imblearn.over_sampling import RandomOverSampler\n",
    "ros = RandomOverSampler(random_state=42)\n",
    "X_over, y_over = ros.fit_resample(X_train, y_train)\n",
    "\n",
    "np.mean(y_over)"
   ]
  },
  {
   "cell_type": "markdown",
   "metadata": {},
   "source": [
    "#### 2. Create Synthetic Fraud Data"
   ]
  },
  {
   "cell_type": "code",
   "execution_count": 6,
   "metadata": {},
   "outputs": [
    {
     "name": "stderr",
     "output_type": "stream",
     "text": [
      "/Users/corneliusbohle/Desktop/neuefische/fraud/.venv/lib/python3.9/site-packages/numpy/core/fromnumeric.py:3472: FutureWarning: In a future version, DataFrame.mean(axis=None) will return a scalar mean over the entire DataFrame. To retain the old behavior, use 'frame.mean(axis=0)' or just 'frame.mean()'\n",
      "  return mean(axis=axis, dtype=dtype, out=out, **kwargs)\n"
     ]
    },
    {
     "data": {
      "text/plain": [
       "FraudResult    0.5\n",
       "dtype: float64"
      ]
     },
     "execution_count": 6,
     "metadata": {},
     "output_type": "execute_result"
    }
   ],
   "source": [
    "#used smote algorithm (synthetic oversampling) to oversample fradulent class\n",
    "# dataframes of synthetic datapoints: smote_data_X, smote_data_Y\n",
    "smote_algo = SMOTE(random_state=50)\n",
    "X_syn, y_syn = smote_algo.fit_resample(X_train, y_train)\n",
    "X_syn = pd.DataFrame(data=X_syn, columns=X_train.columns)\n",
    "y_syn = pd.DataFrame(data=y_syn, columns=['FraudResult'])\n",
    "np.mean(y_syn)"
   ]
  },
  {
   "cell_type": "markdown",
   "metadata": {},
   "source": [
    "#### 3. Undersample Non-Frauds"
   ]
  },
  {
   "cell_type": "code",
   "execution_count": 7,
   "metadata": {},
   "outputs": [
    {
     "name": "stderr",
     "output_type": "stream",
     "text": [
      "/Users/corneliusbohle/Desktop/neuefische/fraud/.venv/lib/python3.9/site-packages/numpy/core/fromnumeric.py:3472: FutureWarning: In a future version, DataFrame.mean(axis=None) will return a scalar mean over the entire DataFrame. To retain the old behavior, use 'frame.mean(axis=0)' or just 'frame.mean()'\n",
      "  return mean(axis=axis, dtype=dtype, out=out, **kwargs)\n"
     ]
    },
    {
     "data": {
      "text/plain": [
       "FraudResult    0.5\n",
       "dtype: float64"
      ]
     },
     "execution_count": 7,
     "metadata": {},
     "output_type": "execute_result"
    }
   ],
   "source": [
    "# used randomundersampler algorithm to undersample non fradulent class\n",
    "# dataframes for undersampled data: X_res, y_res\n",
    "rus = RandomUnderSampler(random_state=50)\n",
    "X_under, y_under = rus.fit_resample(X_train, y_train)\n",
    "np.mean(y_under)"
   ]
  },
  {
   "cell_type": "markdown",
   "metadata": {},
   "source": [
    "# Model fitting"
   ]
  },
  {
   "cell_type": "code",
   "execution_count": 14,
   "metadata": {},
   "outputs": [
    {
     "name": "stderr",
     "output_type": "stream",
     "text": [
      "/var/folders/zn/s4295xwn7kj92hy1gg99j03h0000gn/T/ipykernel_7013/2727170281.py:9: DataConversionWarning: A column-vector y was passed when a 1d array was expected. Please change the shape of y to (n_samples,), for example using ravel().\n",
      "  model_rf.fit(X_input, y_input)\n",
      "[Parallel(n_jobs=-1)]: Using backend ThreadingBackend with 8 concurrent workers.\n",
      "[Parallel(n_jobs=-1)]: Done  34 tasks      | elapsed:    0.3s\n",
      "[Parallel(n_jobs=-1)]: Done 100 out of 100 | elapsed:    0.8s finished\n",
      "/Users/corneliusbohle/Desktop/neuefische/fraud/.venv/lib/python3.9/site-packages/sklearn/utils/validation.py:993: DataConversionWarning: A column-vector y was passed when a 1d array was expected. Please change the shape of y to (n_samples, ), for example using ravel().\n",
      "  y = column_or_1d(y, warn=True)\n",
      "/Users/corneliusbohle/Desktop/neuefische/fraud/.venv/lib/python3.9/site-packages/sklearn/neighbors/_classification.py:198: DataConversionWarning: A column-vector y was passed when a 1d array was expected. Please change the shape of y to (n_samples,), for example using ravel().\n",
      "  return self._fit(X, y)\n",
      "/Users/corneliusbohle/Desktop/neuefische/fraud/.venv/lib/python3.9/site-packages/sklearn/utils/validation.py:993: DataConversionWarning: A column-vector y was passed when a 1d array was expected. Please change the shape of y to (n_samples, ), for example using ravel().\n",
      "  y = column_or_1d(y, warn=True)\n",
      "/Users/corneliusbohle/Desktop/neuefische/fraud/.venv/lib/python3.9/site-packages/sklearn/utils/validation.py:993: DataConversionWarning: A column-vector y was passed when a 1d array was expected. Please change the shape of y to (n_samples, ), for example using ravel().\n",
      "  y = column_or_1d(y, warn=True)\n"
     ]
    }
   ],
   "source": [
    "X_input = X_syn\n",
    "y_input = y_syn\n",
    "\n",
    "# random forest\n",
    "model_rf = RandomForestClassifier(n_estimators=100, \n",
    "                               random_state=50, \n",
    "                               max_features = 'sqrt',\n",
    "                               n_jobs=-1, verbose = 1)\n",
    "model_rf.fit(X_input, y_input)\n",
    "\n",
    "# logistic\n",
    "model_log = LogisticRegression(random_state=50).fit(X_input, y_input)\n",
    "\n",
    "# knn\n",
    "model_knn = KNeighborsClassifier(n_neighbors=5)\n",
    "model_knn.fit(X_input, y_input)\n",
    "\n",
    "# naive\n",
    "model_naive = MultinomialNB()\n",
    "model_naive.fit(X_input, y_input)\n",
    "\n",
    "# svm\n",
    "model_svm = SVC(random_state = 50, probability = True)\n",
    "model_svm.fit(X_input, y_input)\n"
   ]
  },
  {
   "cell_type": "markdown",
   "metadata": {},
   "source": [
    "Evaluation of Train Data"
   ]
  },
  {
   "cell_type": "code",
   "execution_count": 10,
   "metadata": {},
   "outputs": [
    {
     "name": "stderr",
     "output_type": "stream",
     "text": [
      "[Parallel(n_jobs=8)]: Using backend ThreadingBackend with 8 concurrent workers.\n",
      "[Parallel(n_jobs=8)]: Done  34 tasks      | elapsed:    0.1s\n",
      "[Parallel(n_jobs=8)]: Done 100 out of 100 | elapsed:    0.2s finished\n",
      "[Parallel(n_jobs=8)]: Using backend ThreadingBackend with 8 concurrent workers.\n",
      "[Parallel(n_jobs=8)]: Done  34 tasks      | elapsed:    0.1s\n",
      "[Parallel(n_jobs=8)]: Done 100 out of 100 | elapsed:    0.2s finished\n"
     ]
    }
   ],
   "source": [
    "# rf\n",
    "train_rf_predictions = model_rf.predict(X_input)\n",
    "train_rf_probs = model_rf.predict_proba(X_input)[:, 1]\n",
    "\n",
    "# log\n",
    "train_log_predictions = model_log.predict(X_input)\n",
    "train_log_probs = model_log.predict_proba(X_input)[:, 1]\n",
    "\n",
    "# knn\n",
    "train_knn_predictions = model_knn.predict(X_input)\n",
    "train_knn_probs = model_knn.predict_proba(X_input)[:, 1]\n",
    "\n",
    "#naive\n",
    "train_naive_predictions = model_naive.predict(X_input)\n",
    "train_naive_probs = model_naive.predict_proba(X_input)[:, 1]\n",
    "\n",
    "# svm\n",
    "train_svm_predictions = model_svm.predict(X_input)\n",
    "train_svm_probs = model_svm.predict_proba(X_input)[:, 1]"
   ]
  },
  {
   "cell_type": "code",
   "execution_count": 11,
   "metadata": {},
   "outputs": [
    {
     "name": "stdout",
     "output_type": "stream",
     "text": [
      "0\n",
      "Accuracy: 0.9997185961072461\n",
      "Precision: 0.9994531164549446\n",
      "Recall: 0.9999843664504026\n",
      "F1: 0.9997186708761839\n",
      "1\n",
      "Accuracy: 0.9897287579144844\n",
      "Precision: 0.9913726843500494\n",
      "Recall: 0.9880559681075588\n",
      "F1: 0.9897115474960068\n",
      "2\n",
      "Accuracy: 0.9960290784022512\n",
      "Precision: 0.9964792589231226\n",
      "Recall: 0.9955757054639256\n",
      "F1: 0.9960272772772772\n",
      "3\n",
      "Accuracy: 0.9875087938716486\n",
      "Precision: 0.9799307425933051\n",
      "Recall: 0.9954037364183538\n",
      "F1: 0.9876066387467038\n",
      "4\n",
      "Accuracy: 0.9900179785820371\n",
      "Precision: 0.9883307886454991\n",
      "Recall: 0.9917454858125537\n",
      "F1: 0.9900351928584249\n"
     ]
    }
   ],
   "source": [
    "for i,p in enumerate([train_rf_predictions, train_log_predictions, train_knn_predictions, train_naive_predictions, train_svm_predictions]):\n",
    "    print(i)\n",
    "    print_evaluations(y_input, p)\n"
   ]
  },
  {
   "cell_type": "code",
   "execution_count": 12,
   "metadata": {},
   "outputs": [
    {
     "name": "stderr",
     "output_type": "stream",
     "text": [
      "[Parallel(n_jobs=8)]: Using backend ThreadingBackend with 8 concurrent workers.\n",
      "[Parallel(n_jobs=8)]: Done  34 tasks      | elapsed:    0.0s\n",
      "[Parallel(n_jobs=8)]: Done 100 out of 100 | elapsed:    0.1s finished\n",
      "[Parallel(n_jobs=8)]: Using backend ThreadingBackend with 8 concurrent workers.\n",
      "[Parallel(n_jobs=8)]: Done  34 tasks      | elapsed:    0.0s\n",
      "[Parallel(n_jobs=8)]: Done 100 out of 100 | elapsed:    0.0s finished\n"
     ]
    },
    {
     "name": "stdout",
     "output_type": "stream",
     "text": [
      "0\n",
      "Accuracy: 0.9989546707212772\n",
      "Precision: 0.6904761904761905\n",
      "Recall: 0.8923076923076924\n",
      "F1: 0.7785234899328859\n",
      "1\n",
      "Accuracy: 0.9915106591909785\n",
      "Precision: 0.18960244648318042\n",
      "Recall: 0.9538461538461539\n",
      "F1: 0.31632653061224486\n",
      "2\n",
      "Accuracy: 0.9954385631473914\n",
      "Precision: 0.29743589743589743\n",
      "Recall: 0.8923076923076924\n",
      "F1: 0.4461538461538462\n",
      "3\n",
      "Accuracy: 0.9779847318572017\n",
      "Precision: 0.08333333333333333\n",
      "Recall: 0.9692307692307692\n",
      "F1: 0.15347137637028013\n",
      "4\n",
      "Accuracy: 0.9885013779340492\n",
      "Precision: 0.14691943127962084\n",
      "Recall: 0.9538461538461539\n",
      "F1: 0.2546201232032854\n"
     ]
    }
   ],
   "source": [
    "# rf\n",
    "test_rf_predictions = model_rf.predict(X_test)\n",
    "test_rf_probs = model_rf.predict_proba(X_test)[:, 1]\n",
    "\n",
    "# log\n",
    "test_log_predictions = model_log.predict(X_test)\n",
    "test_log_probs = model_log.predict_proba(X_test)[:, 1]\n",
    "\n",
    "# knn\n",
    "test_knn_predictions = model_knn.predict(X_test)\n",
    "test_knn_probs = model_knn.predict_proba(X_test)[:, 1]\n",
    "\n",
    "#naive\n",
    "test_naive_predictions = model_naive.predict(X_test)\n",
    "test_naive_probs = model_naive.predict_proba(X_test)[:, 1]\n",
    "\n",
    "# svm\n",
    "test_svm_predictions = model_svm.predict(X_test)\n",
    "test_svm_probs = model_svm.predict_proba(X_test)[:, 1]\n",
    "\n",
    "for i,p in enumerate([test_rf_predictions, test_log_predictions, test_knn_predictions, test_naive_predictions, test_svm_predictions]):\n",
    "    print(i)\n",
    "    print_evaluations(y_test, p)"
   ]
  },
  {
   "cell_type": "code",
   "execution_count": 13,
   "metadata": {},
   "outputs": [
    {
     "ename": "NameError",
     "evalue": "name 'smote_data_X' is not defined",
     "output_type": "error",
     "traceback": [
      "\u001b[0;31m---------------------------------------------------------------------------\u001b[0m",
      "\u001b[0;31mNameError\u001b[0m                                 Traceback (most recent call last)",
      "\u001b[1;32m/Users/corneliusbohle/Desktop/neuefische/fraud/modeling.ipynb Cell 21'\u001b[0m in \u001b[0;36m<cell line: 2>\u001b[0;34m()\u001b[0m\n\u001b[1;32m      <a href='vscode-notebook-cell:/Users/corneliusbohle/Desktop/neuefische/fraud/modeling.ipynb#ch0000020?line=0'>1</a>\u001b[0m \u001b[39m# Training predictions (to demonstrate overfitting)\u001b[39;00m\n\u001b[0;32m----> <a href='vscode-notebook-cell:/Users/corneliusbohle/Desktop/neuefische/fraud/modeling.ipynb#ch0000020?line=1'>2</a>\u001b[0m train_rf_predictions \u001b[39m=\u001b[39m model_rf\u001b[39m.\u001b[39mpredict(smote_data_X)\n\u001b[1;32m      <a href='vscode-notebook-cell:/Users/corneliusbohle/Desktop/neuefische/fraud/modeling.ipynb#ch0000020?line=2'>3</a>\u001b[0m train_rf_probs \u001b[39m=\u001b[39m model_rf\u001b[39m.\u001b[39mpredict_proba(smote_data_X)[:, \u001b[39m1\u001b[39m]\n\u001b[1;32m      <a href='vscode-notebook-cell:/Users/corneliusbohle/Desktop/neuefische/fraud/modeling.ipynb#ch0000020?line=4'>5</a>\u001b[0m \u001b[39m# Testing predictions (to determine performance)\u001b[39;00m\n",
      "\u001b[0;31mNameError\u001b[0m: name 'smote_data_X' is not defined"
     ]
    }
   ],
   "source": [
    "# Training predictions (to demonstrate overfitting)\n",
    "train_rf_predictions = model_rf.predict(smote_data_X)\n",
    "train_rf_probs = model_rf.predict_proba(smote_data_X)[:, 1]\n",
    "\n",
    "# Testing predictions (to determine performance)\n",
    "test_rf_predictions = model_rf.predict(X_test)\n",
    "test_rf_probs = model_rf.predict_proba(X_test)[:, 1]\n",
    "\n",
    "# Confusion matrix\n",
    "cm = confusion_matrix(y_test, test_rf_predictions)\n",
    "plot_confusion_matrix(cm, classes = ['Fraud', 'No Fraud'],\n",
    "                      title = 'Fraud Confusion Matrix')\n",
    "\n",
    "print_evaluations(y_test, test_rf_predictions)\n"
   ]
  },
  {
   "cell_type": "code",
   "execution_count": null,
   "metadata": {},
   "outputs": [],
   "source": [
    "cm = confusion_matrix(smote_data_Y, train_rf_predictions)\n",
    "plot_confusion_matrix(cm, classes = ['Fraud', 'No Fraud'],\n",
    "                      title = 'Fraud Confusion Matrix')\n",
    "print_evaluations(smote_data_Y, train_rf_predictions)"
   ]
  },
  {
   "cell_type": "code",
   "execution_count": null,
   "metadata": {},
   "outputs": [],
   "source": [
    "model_svm = SVC(random_state = 50, probability = True)\n",
    "model_svm.fit(smote_data_X, smote_data_Y)\n",
    "\n",
    "# Training predictions (to demonstrate overfitting)\n",
    "train_svm_predictions = model_svm.predict(smote_data_X)\n",
    "train_svm_probs = model_svm.predict_proba(smote_data_X)[:, 1]\n",
    "\n",
    "# Testing predictions (to determine performance)\n",
    "test_svm_predictions = model_svm.predict(X_test)\n",
    "test_svm_probs = model_svm.predict_proba(X_test)[:, 1]\n",
    "\n",
    "# Confusion matrix\n",
    "cm = confusion_matrix(y_test, test_svm_predictions)\n",
    "plot_confusion_matrix(cm, classes = ['Fraud', 'No Fraud'],\n",
    "                      title = 'Fraud Confusion Matrix')\n",
    "\n",
    "print_evaluations(y_test, test_svm_predictions)"
   ]
  },
  {
   "cell_type": "code",
   "execution_count": null,
   "metadata": {},
   "outputs": [],
   "source": [
    "model_adaboost =  AdaBoostClassifier(random_state = 50)\n",
    "model_adaboost.fit(smote_data_X, smote_data_Y)\n",
    "\n",
    "# Training predictions (to demonstrate overfitting)\n",
    "train_adaboost_predictions = model_adaboost.predict(smote_data_X)\n",
    "train_adaboost_probs = model_adaboost.predict_proba(smote_data_X)[:, 1]\n",
    "\n",
    "# Testing predictions (to determine performance)\n",
    "test_adaboost_predictions = model_adaboost.predict(X_test)\n",
    "test_adaboost_probs = model_adaboost.predict_proba(X_test)[:, 1]\n",
    "\n",
    "# Confusion matrix\n",
    "cm = confusion_matrix(y_test, test_adaboost_predictions)\n",
    "plot_confusion_matrix(cm, classes = ['Fraud', 'No Fraud'],\n",
    "                      title = 'Fraud Confusion Matrix')\n",
    "\n",
    "print_evaluations(y_test, test_adaboost_predictions)"
   ]
  },
  {
   "cell_type": "code",
   "execution_count": null,
   "metadata": {},
   "outputs": [],
   "source": []
  },
  {
   "cell_type": "markdown",
   "metadata": {},
   "source": [
    "# Stacking two best models"
   ]
  },
  {
   "cell_type": "code",
   "execution_count": 82,
   "metadata": {},
   "outputs": [
    {
     "data": {
      "text/plain": [
       "Index(['PricingStrategy_0', 'PricingStrategy_1', 'PricingStrategy_2',\n",
       "       'PricingStrategy_4', 'ProviderId_ProviderId_1',\n",
       "       'ProviderId_ProviderId_2', 'ProviderId_ProviderId_3',\n",
       "       'ProviderId_ProviderId_4', 'ProviderId_ProviderId_5',\n",
       "       'ProviderId_ProviderId_6', 'ProductId_ProductId_1',\n",
       "       'ProductId_ProductId_10', 'ProductId_ProductId_11',\n",
       "       'ProductId_ProductId_13', 'ProductId_ProductId_14',\n",
       "       'ProductId_ProductId_15', 'ProductId_ProductId_16',\n",
       "       'ProductId_ProductId_19', 'ProductId_ProductId_2',\n",
       "       'ProductId_ProductId_20', 'ProductId_ProductId_21',\n",
       "       'ProductId_ProductId_22', 'ProductId_ProductId_23',\n",
       "       'ProductId_ProductId_24', 'ProductId_ProductId_27',\n",
       "       'ProductId_ProductId_3', 'ProductId_ProductId_4',\n",
       "       'ProductId_ProductId_5', 'ProductId_ProductId_6',\n",
       "       'ProductId_ProductId_7', 'ProductId_ProductId_8',\n",
       "       'ProductId_ProductId_9', 'ChannelId_ChannelId_1',\n",
       "       'ChannelId_ChannelId_2', 'ChannelId_ChannelId_3',\n",
       "       'ChannelId_ChannelId_5', 'ProductCategory_airtime',\n",
       "       'ProductCategory_data_bundles', 'ProductCategory_financial_services',\n",
       "       'ProductCategory_movies', 'ProductCategory_ticket',\n",
       "       'ProductCategory_transport', 'ProductCategory_tv',\n",
       "       'ProductCategory_utility_bill', 'Hour_0', 'Hour_1', 'Hour_2', 'Hour_3',\n",
       "       'Hour_4', 'Hour_5', 'Hour_6', 'Hour_7', 'Hour_8', 'Hour_9', 'Hour_10',\n",
       "       'Hour_11', 'Hour_12', 'Hour_13', 'Hour_14', 'Hour_15', 'Hour_16',\n",
       "       'Hour_17', 'Hour_18', 'Hour_19', 'Hour_20', 'Hour_21', 'Hour_22',\n",
       "       'Hour_23', 'Value', 'DirectionOfMoney', 'ChannelId_ChannelId_4',\n",
       "       'ProductCategory_retail', 'ProductId_ProductId_17',\n",
       "       'ProductId_ProductId_18', 'ProductId_ProductId_25',\n",
       "       'ProductId_ProductId_26'],\n",
       "      dtype='object')"
      ]
     },
     "execution_count": 82,
     "metadata": {},
     "output_type": "execute_result"
    }
   ],
   "source": [
    "X_over.columns"
   ]
  },
  {
   "cell_type": "code",
   "execution_count": 83,
   "metadata": {},
   "outputs": [
    {
     "name": "stderr",
     "output_type": "stream",
     "text": [
      "/var/folders/zn/s4295xwn7kj92hy1gg99j03h0000gn/T/ipykernel_8633/1429240659.py:6: DataConversionWarning: A column-vector y was passed when a 1d array was expected. Please change the shape of y to (n_samples,), for example using ravel().\n",
      "  model_rf.fit(X_input, y_input)\n",
      "[Parallel(n_jobs=-1)]: Using backend ThreadingBackend with 8 concurrent workers.\n",
      "[Parallel(n_jobs=-1)]: Done  34 tasks      | elapsed:    0.5s\n",
      "[Parallel(n_jobs=-1)]: Done 184 tasks      | elapsed:    2.0s\n",
      "[Parallel(n_jobs=-1)]: Done 434 tasks      | elapsed:    4.5s\n",
      "[Parallel(n_jobs=-1)]: Done 500 out of 500 | elapsed:    5.2s finished\n",
      "[Parallel(n_jobs=8)]: Using backend ThreadingBackend with 8 concurrent workers.\n",
      "[Parallel(n_jobs=8)]: Done  34 tasks      | elapsed:    0.0s\n",
      "[Parallel(n_jobs=8)]: Done 184 tasks      | elapsed:    0.1s\n",
      "[Parallel(n_jobs=8)]: Done 434 tasks      | elapsed:    0.2s\n"
     ]
    },
    {
     "name": "stdout",
     "output_type": "stream",
     "text": [
      "Accuracy: 0.9989546707212772\n",
      "Precision: 0.7162162162162162\n",
      "Recall: 0.8153846153846154\n",
      "F1: 0.762589928057554\n",
      "[[31483    21]\n",
      " [   12    53]]\n"
     ]
    },
    {
     "name": "stderr",
     "output_type": "stream",
     "text": [
      "[Parallel(n_jobs=8)]: Done 500 out of 500 | elapsed:    0.2s finished\n"
     ]
    }
   ],
   "source": [
    "# best random forest\n",
    "X_input = X_over\n",
    "y_input = y_over\n",
    "model_rf = RandomForestClassifier(bootstrap=False, max_depth=30, n_estimators=500,\n",
    "                       n_jobs=-1, random_state=50, verbose=1, max_features = 'sqrt')\n",
    "model_rf.fit(X_input, y_input)\n",
    "prediction_rf = model_rf.predict(X_test)\n",
    "print_evaluations(y_test, prediction_rf)\n",
    "print(confusion_matrix(y_test, prediction_rf))"
   ]
  },
  {
   "cell_type": "code",
   "execution_count": 58,
   "metadata": {},
   "outputs": [],
   "source": [
    "analysis = X_test\n",
    "analysis['predictions'] = prediction_rf\n",
    "analysis['actual'] = y_test\n",
    "fp = analysis.query('predictions == 1 & actual == 0')"
   ]
  },
  {
   "cell_type": "code",
   "execution_count": 59,
   "metadata": {},
   "outputs": [
    {
     "data": {
      "text/plain": [
       "PricingStrategy_0           0\n",
       "PricingStrategy_1           0\n",
       "PricingStrategy_2          19\n",
       "PricingStrategy_4           2\n",
       "ProviderId_ProviderId_1     5\n",
       "                           ..\n",
       "ProductId_ProductId_18      0\n",
       "ProductId_ProductId_25      0\n",
       "ProductId_ProductId_26      0\n",
       "predictions                21\n",
       "actual                      0\n",
       "Length: 77, dtype: int64"
      ]
     },
     "execution_count": 59,
     "metadata": {},
     "output_type": "execute_result"
    }
   ],
   "source": [
    "fp.sum(axis=0)"
   ]
  },
  {
   "cell_type": "code",
   "execution_count": null,
   "metadata": {},
   "outputs": [],
   "source": [
    "print_evaluations(y_test, )"
   ]
  },
  {
   "cell_type": "code",
   "execution_count": 84,
   "metadata": {},
   "outputs": [],
   "source": [
    "filename = 'finalized_model.sav'\n",
    "pickle.dump(model_rf, open(filename, 'wb'))\n",
    "\n"
   ]
  },
  {
   "cell_type": "code",
   "execution_count": 17,
   "metadata": {},
   "outputs": [
    {
     "name": "stderr",
     "output_type": "stream",
     "text": [
      "/Users/corneliusbohle/Desktop/neuefische/fraud/.venv/lib/python3.9/site-packages/xgboost/data.py:262: FutureWarning: pandas.Int64Index is deprecated and will be removed from pandas in a future version. Use pandas.Index with the appropriate dtype instead.\n",
      "  elif isinstance(data.columns, (pd.Int64Index, pd.RangeIndex)):\n"
     ]
    },
    {
     "name": "stdout",
     "output_type": "stream",
     "text": [
      "[09:49:10] WARNING: /private/var/folders/zn/s4295xwn7kj92hy1gg99j03h0000gn/T/pip-install-pkvt0y89/xgboost_3c87dbbca83d443e9a9e4250a6e3cfb8/build/temp.macosx-11.6-arm64-3.9/xgboost/src/learner.cc:576: \n",
      "Parameters: { \"max_features\", \"verbose\" } might not be used.\n",
      "\n",
      "  This could be a false alarm, with some parameters getting used by language bindings but\n",
      "  then being mistakenly passed down to XGBoost core, or some parameter actually being used\n",
      "  but getting flagged wrongly here. Please open an issue if you find any such cases.\n",
      "\n",
      "\n",
      "[09:49:10] WARNING: /private/var/folders/zn/s4295xwn7kj92hy1gg99j03h0000gn/T/pip-install-pkvt0y89/xgboost_3c87dbbca83d443e9a9e4250a6e3cfb8/build/temp.macosx-11.6-arm64-3.9/xgboost/src/learner.cc:1115: Starting in XGBoost 1.3.0, the default evaluation metric used with the objective 'binary:logistic' was changed from 'error' to 'logloss'. Explicitly set eval_metric if you'd like to restore the old behavior.\n"
     ]
    },
    {
     "data": {
      "text/plain": [
       "XGBClassifier(base_score=0.5, booster='gbtree', colsample_bylevel=1,\n",
       "              colsample_bynode=1, colsample_bytree=1, enable_categorical=False,\n",
       "              gamma=0, gpu_id=-1, importance_type=None,\n",
       "              interaction_constraints='', learning_rate=0.5, max_delta_step=0,\n",
       "              max_depth=90, max_features='sqrt', min_child_weight=1,\n",
       "              missing=nan, monotone_constraints='()', n_estimators=101,\n",
       "              n_jobs=-1, num_parallel_tree=1, predictor='auto', random_state=50,\n",
       "              reg_alpha=0, reg_lambda=1, scale_pos_weight=1, subsample=1,\n",
       "              tree_method='exact', use_label_encoder=False,\n",
       "              validate_parameters=1, verbose=1, ...)"
      ]
     },
     "execution_count": 17,
     "metadata": {},
     "output_type": "execute_result"
    }
   ],
   "source": [
    "# best xgb boost model\n",
    "model_xgb = xgb.XGBClassifier(n_estimators=101,\n",
    "                        random_state=50,\n",
    "                        n_jobs=-1,\n",
    "                        max_features = 'sqrt',\n",
    "                        verbose = 1, max_depth=90, learning_rate=0.5, use_label_encoder=False)\n",
    "model_xgb.fit(X_input, y_input)"
   ]
  },
  {
   "cell_type": "code",
   "execution_count": 11,
   "metadata": {},
   "outputs": [],
   "source": [
    "from sklearn.ensemble import StackingClassifier"
   ]
  },
  {
   "cell_type": "code",
   "execution_count": 23,
   "metadata": {},
   "outputs": [
    {
     "name": "stderr",
     "output_type": "stream",
     "text": [
      "[Parallel(n_jobs=-1)]: Using backend LokyBackend with 8 concurrent workers.\n",
      "[Parallel(n_jobs=-1)]: Done  56 tasks      | elapsed:    0.7s\n",
      "[Parallel(n_jobs=-1)]: Done 485 out of 500 | elapsed:    4.1s remaining:    0.1s\n",
      "[Parallel(n_jobs=-1)]: Done 500 out of 500 | elapsed:    4.1s finished\n",
      "/Users/corneliusbohle/Desktop/neuefische/fraud/.venv/lib/python3.9/site-packages/xgboost/data.py:262: FutureWarning: pandas.Int64Index is deprecated and will be removed from pandas in a future version. Use pandas.Index with the appropriate dtype instead.\n",
      "  elif isinstance(data.columns, (pd.Int64Index, pd.RangeIndex)):\n"
     ]
    },
    {
     "name": "stdout",
     "output_type": "stream",
     "text": [
      "[09:55:09] WARNING: /private/var/folders/zn/s4295xwn7kj92hy1gg99j03h0000gn/T/pip-install-pkvt0y89/xgboost_3c87dbbca83d443e9a9e4250a6e3cfb8/build/temp.macosx-11.6-arm64-3.9/xgboost/src/learner.cc:576: \n",
      "Parameters: { \"max_features\", \"verbose\" } might not be used.\n",
      "\n",
      "  This could be a false alarm, with some parameters getting used by language bindings but\n",
      "  then being mistakenly passed down to XGBoost core, or some parameter actually being used\n",
      "  but getting flagged wrongly here. Please open an issue if you find any such cases.\n",
      "\n",
      "\n",
      "[09:55:09] WARNING: /private/var/folders/zn/s4295xwn7kj92hy1gg99j03h0000gn/T/pip-install-pkvt0y89/xgboost_3c87dbbca83d443e9a9e4250a6e3cfb8/build/temp.macosx-11.6-arm64-3.9/xgboost/src/learner.cc:1115: Starting in XGBoost 1.3.0, the default evaluation metric used with the objective 'binary:logistic' was changed from 'error' to 'logloss'. Explicitly set eval_metric if you'd like to restore the old behavior.\n"
     ]
    },
    {
     "name": "stderr",
     "output_type": "stream",
     "text": [
      "[Parallel(n_jobs=-1)]: Using backend LokyBackend with 8 concurrent workers.\n",
      "[Parallel(n_jobs=-1)]: Done  56 tasks      | elapsed:    0.5s\n",
      "[Parallel(n_jobs=-1)]: Done 485 out of 500 | elapsed:    3.1s remaining:    0.1s\n",
      "[Parallel(n_jobs=-1)]: Done 500 out of 500 | elapsed:    3.1s finished\n",
      "[Parallel(n_jobs=8)]: Using backend ThreadingBackend with 8 concurrent workers.\n",
      "[Parallel(n_jobs=8)]: Done  34 tasks      | elapsed:    0.0s\n",
      "[Parallel(n_jobs=8)]: Done 184 tasks      | elapsed:    0.1s\n",
      "[Parallel(n_jobs=8)]: Done 434 tasks      | elapsed:    0.2s\n",
      "[Parallel(n_jobs=8)]: Done 500 out of 500 | elapsed:    0.2s finished\n",
      "[Parallel(n_jobs=-1)]: Using backend LokyBackend with 8 concurrent workers.\n",
      "[Parallel(n_jobs=-1)]: Done  56 tasks      | elapsed:    0.5s\n",
      "[Parallel(n_jobs=-1)]: Done 500 out of 500 | elapsed:    3.3s finished\n",
      "[Parallel(n_jobs=8)]: Using backend ThreadingBackend with 8 concurrent workers.\n",
      "[Parallel(n_jobs=8)]: Done  34 tasks      | elapsed:    0.0s\n",
      "[Parallel(n_jobs=8)]: Done 184 tasks      | elapsed:    0.1s\n",
      "[Parallel(n_jobs=8)]: Done 434 tasks      | elapsed:    0.2s\n",
      "[Parallel(n_jobs=8)]: Done 500 out of 500 | elapsed:    0.2s finished\n",
      "[Parallel(n_jobs=-1)]: Using backend LokyBackend with 8 concurrent workers.\n",
      "[Parallel(n_jobs=-1)]: Done  56 tasks      | elapsed:    0.6s\n",
      "[Parallel(n_jobs=-1)]: Done 485 out of 500 | elapsed:    3.3s remaining:    0.1s\n",
      "[Parallel(n_jobs=-1)]: Done 500 out of 500 | elapsed:    3.3s finished\n",
      "[Parallel(n_jobs=8)]: Using backend ThreadingBackend with 8 concurrent workers.\n",
      "[Parallel(n_jobs=8)]: Done  34 tasks      | elapsed:    0.0s\n",
      "[Parallel(n_jobs=8)]: Done 184 tasks      | elapsed:    0.1s\n",
      "[Parallel(n_jobs=8)]: Done 434 tasks      | elapsed:    0.2s\n",
      "[Parallel(n_jobs=8)]: Done 500 out of 500 | elapsed:    0.2s finished\n",
      "[Parallel(n_jobs=-1)]: Using backend LokyBackend with 8 concurrent workers.\n",
      "[Parallel(n_jobs=-1)]: Done  56 tasks      | elapsed:    0.5s\n",
      "[Parallel(n_jobs=-1)]: Done 500 out of 500 | elapsed:    3.3s finished\n",
      "[Parallel(n_jobs=8)]: Using backend ThreadingBackend with 8 concurrent workers.\n",
      "[Parallel(n_jobs=8)]: Done  34 tasks      | elapsed:    0.0s\n",
      "[Parallel(n_jobs=8)]: Done 184 tasks      | elapsed:    0.1s\n",
      "[Parallel(n_jobs=8)]: Done 434 tasks      | elapsed:    0.2s\n",
      "[Parallel(n_jobs=8)]: Done 500 out of 500 | elapsed:    0.2s finished\n",
      "[Parallel(n_jobs=-1)]: Using backend LokyBackend with 8 concurrent workers.\n",
      "[Parallel(n_jobs=-1)]: Done  56 tasks      | elapsed:    0.5s\n",
      "[Parallel(n_jobs=-1)]: Done 500 out of 500 | elapsed:    3.4s finished\n",
      "[Parallel(n_jobs=8)]: Using backend ThreadingBackend with 8 concurrent workers.\n",
      "[Parallel(n_jobs=8)]: Done  34 tasks      | elapsed:    0.0s\n",
      "[Parallel(n_jobs=8)]: Done 184 tasks      | elapsed:    0.1s\n",
      "[Parallel(n_jobs=8)]: Done 434 tasks      | elapsed:    0.2s\n",
      "[Parallel(n_jobs=8)]: Done 500 out of 500 | elapsed:    0.2s finished\n",
      "/Users/corneliusbohle/Desktop/neuefische/fraud/.venv/lib/python3.9/site-packages/xgboost/data.py:262: FutureWarning: pandas.Int64Index is deprecated and will be removed from pandas in a future version. Use pandas.Index with the appropriate dtype instead.\n",
      "  elif isinstance(data.columns, (pd.Int64Index, pd.RangeIndex)):\n"
     ]
    },
    {
     "name": "stdout",
     "output_type": "stream",
     "text": [
      "[09:55:49] WARNING: /private/var/folders/zn/s4295xwn7kj92hy1gg99j03h0000gn/T/pip-install-pkvt0y89/xgboost_3c87dbbca83d443e9a9e4250a6e3cfb8/build/temp.macosx-11.6-arm64-3.9/xgboost/src/learner.cc:576: \n",
      "Parameters: { \"max_features\", \"verbose\" } might not be used.\n",
      "\n",
      "  This could be a false alarm, with some parameters getting used by language bindings but\n",
      "  then being mistakenly passed down to XGBoost core, or some parameter actually being used\n",
      "  but getting flagged wrongly here. Please open an issue if you find any such cases.\n",
      "\n",
      "\n",
      "[09:55:50] WARNING: /private/var/folders/zn/s4295xwn7kj92hy1gg99j03h0000gn/T/pip-install-pkvt0y89/xgboost_3c87dbbca83d443e9a9e4250a6e3cfb8/build/temp.macosx-11.6-arm64-3.9/xgboost/src/learner.cc:1115: Starting in XGBoost 1.3.0, the default evaluation metric used with the objective 'binary:logistic' was changed from 'error' to 'logloss'. Explicitly set eval_metric if you'd like to restore the old behavior.\n"
     ]
    },
    {
     "name": "stderr",
     "output_type": "stream",
     "text": [
      "/Users/corneliusbohle/Desktop/neuefische/fraud/.venv/lib/python3.9/site-packages/xgboost/data.py:262: FutureWarning: pandas.Int64Index is deprecated and will be removed from pandas in a future version. Use pandas.Index with the appropriate dtype instead.\n",
      "  elif isinstance(data.columns, (pd.Int64Index, pd.RangeIndex)):\n"
     ]
    },
    {
     "name": "stdout",
     "output_type": "stream",
     "text": [
      "[09:56:07] WARNING: /private/var/folders/zn/s4295xwn7kj92hy1gg99j03h0000gn/T/pip-install-pkvt0y89/xgboost_3c87dbbca83d443e9a9e4250a6e3cfb8/build/temp.macosx-11.6-arm64-3.9/xgboost/src/learner.cc:576: \n",
      "Parameters: { \"max_features\", \"verbose\" } might not be used.\n",
      "\n",
      "  This could be a false alarm, with some parameters getting used by language bindings but\n",
      "  then being mistakenly passed down to XGBoost core, or some parameter actually being used\n",
      "  but getting flagged wrongly here. Please open an issue if you find any such cases.\n",
      "\n",
      "\n",
      "[09:56:08] WARNING: /private/var/folders/zn/s4295xwn7kj92hy1gg99j03h0000gn/T/pip-install-pkvt0y89/xgboost_3c87dbbca83d443e9a9e4250a6e3cfb8/build/temp.macosx-11.6-arm64-3.9/xgboost/src/learner.cc:1115: Starting in XGBoost 1.3.0, the default evaluation metric used with the objective 'binary:logistic' was changed from 'error' to 'logloss'. Explicitly set eval_metric if you'd like to restore the old behavior.\n"
     ]
    },
    {
     "name": "stderr",
     "output_type": "stream",
     "text": [
      "/Users/corneliusbohle/Desktop/neuefische/fraud/.venv/lib/python3.9/site-packages/xgboost/data.py:262: FutureWarning: pandas.Int64Index is deprecated and will be removed from pandas in a future version. Use pandas.Index with the appropriate dtype instead.\n",
      "  elif isinstance(data.columns, (pd.Int64Index, pd.RangeIndex)):\n"
     ]
    },
    {
     "name": "stdout",
     "output_type": "stream",
     "text": [
      "[09:56:26] WARNING: /private/var/folders/zn/s4295xwn7kj92hy1gg99j03h0000gn/T/pip-install-pkvt0y89/xgboost_3c87dbbca83d443e9a9e4250a6e3cfb8/build/temp.macosx-11.6-arm64-3.9/xgboost/src/learner.cc:576: \n",
      "Parameters: { \"max_features\", \"verbose\" } might not be used.\n",
      "\n",
      "  This could be a false alarm, with some parameters getting used by language bindings but\n",
      "  then being mistakenly passed down to XGBoost core, or some parameter actually being used\n",
      "  but getting flagged wrongly here. Please open an issue if you find any such cases.\n",
      "\n",
      "\n",
      "[09:56:26] WARNING: /private/var/folders/zn/s4295xwn7kj92hy1gg99j03h0000gn/T/pip-install-pkvt0y89/xgboost_3c87dbbca83d443e9a9e4250a6e3cfb8/build/temp.macosx-11.6-arm64-3.9/xgboost/src/learner.cc:1115: Starting in XGBoost 1.3.0, the default evaluation metric used with the objective 'binary:logistic' was changed from 'error' to 'logloss'. Explicitly set eval_metric if you'd like to restore the old behavior.\n"
     ]
    },
    {
     "name": "stderr",
     "output_type": "stream",
     "text": [
      "/Users/corneliusbohle/Desktop/neuefische/fraud/.venv/lib/python3.9/site-packages/xgboost/data.py:262: FutureWarning: pandas.Int64Index is deprecated and will be removed from pandas in a future version. Use pandas.Index with the appropriate dtype instead.\n",
      "  elif isinstance(data.columns, (pd.Int64Index, pd.RangeIndex)):\n"
     ]
    },
    {
     "name": "stdout",
     "output_type": "stream",
     "text": [
      "[09:56:43] WARNING: /private/var/folders/zn/s4295xwn7kj92hy1gg99j03h0000gn/T/pip-install-pkvt0y89/xgboost_3c87dbbca83d443e9a9e4250a6e3cfb8/build/temp.macosx-11.6-arm64-3.9/xgboost/src/learner.cc:576: \n",
      "Parameters: { \"max_features\", \"verbose\" } might not be used.\n",
      "\n",
      "  This could be a false alarm, with some parameters getting used by language bindings but\n",
      "  then being mistakenly passed down to XGBoost core, or some parameter actually being used\n",
      "  but getting flagged wrongly here. Please open an issue if you find any such cases.\n",
      "\n",
      "\n",
      "[09:56:43] WARNING: /private/var/folders/zn/s4295xwn7kj92hy1gg99j03h0000gn/T/pip-install-pkvt0y89/xgboost_3c87dbbca83d443e9a9e4250a6e3cfb8/build/temp.macosx-11.6-arm64-3.9/xgboost/src/learner.cc:1115: Starting in XGBoost 1.3.0, the default evaluation metric used with the objective 'binary:logistic' was changed from 'error' to 'logloss'. Explicitly set eval_metric if you'd like to restore the old behavior.\n"
     ]
    },
    {
     "name": "stderr",
     "output_type": "stream",
     "text": [
      "/Users/corneliusbohle/Desktop/neuefische/fraud/.venv/lib/python3.9/site-packages/xgboost/data.py:262: FutureWarning: pandas.Int64Index is deprecated and will be removed from pandas in a future version. Use pandas.Index with the appropriate dtype instead.\n",
      "  elif isinstance(data.columns, (pd.Int64Index, pd.RangeIndex)):\n"
     ]
    },
    {
     "name": "stdout",
     "output_type": "stream",
     "text": [
      "[09:57:01] WARNING: /private/var/folders/zn/s4295xwn7kj92hy1gg99j03h0000gn/T/pip-install-pkvt0y89/xgboost_3c87dbbca83d443e9a9e4250a6e3cfb8/build/temp.macosx-11.6-arm64-3.9/xgboost/src/learner.cc:576: \n",
      "Parameters: { \"max_features\", \"verbose\" } might not be used.\n",
      "\n",
      "  This could be a false alarm, with some parameters getting used by language bindings but\n",
      "  then being mistakenly passed down to XGBoost core, or some parameter actually being used\n",
      "  but getting flagged wrongly here. Please open an issue if you find any such cases.\n",
      "\n",
      "\n",
      "[09:57:01] WARNING: /private/var/folders/zn/s4295xwn7kj92hy1gg99j03h0000gn/T/pip-install-pkvt0y89/xgboost_3c87dbbca83d443e9a9e4250a6e3cfb8/build/temp.macosx-11.6-arm64-3.9/xgboost/src/learner.cc:1115: Starting in XGBoost 1.3.0, the default evaluation metric used with the objective 'binary:logistic' was changed from 'error' to 'logloss'. Explicitly set eval_metric if you'd like to restore the old behavior.\n"
     ]
    },
    {
     "name": "stderr",
     "output_type": "stream",
     "text": [
      "[Parallel(n_jobs=8)]: Using backend ThreadingBackend with 8 concurrent workers.\n",
      "[Parallel(n_jobs=8)]: Done  34 tasks      | elapsed:    0.0s\n",
      "[Parallel(n_jobs=8)]: Done 184 tasks      | elapsed:    0.2s\n"
     ]
    },
    {
     "name": "stdout",
     "output_type": "stream",
     "text": [
      "Accuracy: 0.9989229940764675\n",
      "Precision: 0.7627118644067796\n",
      "Recall: 0.6923076923076923\n",
      "F1: 0.7258064516129032\n"
     ]
    },
    {
     "name": "stderr",
     "output_type": "stream",
     "text": [
      "[Parallel(n_jobs=8)]: Done 434 tasks      | elapsed:    0.3s\n",
      "[Parallel(n_jobs=8)]: Done 500 out of 500 | elapsed:    0.3s finished\n",
      "/Users/corneliusbohle/Desktop/neuefische/fraud/.venv/lib/python3.9/site-packages/xgboost/data.py:262: FutureWarning: pandas.Int64Index is deprecated and will be removed from pandas in a future version. Use pandas.Index with the appropriate dtype instead.\n",
      "  elif isinstance(data.columns, (pd.Int64Index, pd.RangeIndex)):\n"
     ]
    }
   ],
   "source": [
    "estimators = [('model_rf', model_rf) , ('xg_boost', model_xgb)]\n",
    "clf = StackingClassifier(estimators=estimators, final_estimator=LogisticRegression(penalty='none'))\n",
    "clf.fit(X_input, np.ravel(y_input))\n",
    "\n",
    "predictions_stacked = clf.predict(X_test)\n",
    "print_evaluations(y_test, predictions_stacked)"
   ]
  },
  {
   "cell_type": "code",
   "execution_count": null,
   "metadata": {},
   "outputs": [],
   "source": []
  }
 ],
 "metadata": {
  "interpreter": {
   "hash": "c8f0a704e52d708eeb646c3f2c284e75ffefcbe300803376c50091c097674410"
  },
  "kernelspec": {
   "display_name": "Python 3.9.8 ('.venv': venv)",
   "language": "python",
   "name": "python3"
  },
  "language_info": {
   "codemirror_mode": {
    "name": "ipython",
    "version": 3
   },
   "file_extension": ".py",
   "mimetype": "text/x-python",
   "name": "python",
   "nbconvert_exporter": "python",
   "pygments_lexer": "ipython3",
   "version": "3.9.4"
  },
  "orig_nbformat": 4
 },
 "nbformat": 4,
 "nbformat_minor": 2
}
