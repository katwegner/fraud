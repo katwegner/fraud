{
 "cells": [
  {
   "cell_type": "markdown",
   "metadata": {},
   "source": [
    "# Modeling of Fraud Detection"
   ]
  },
  {
   "cell_type": "markdown",
   "metadata": {},
   "source": [
    "### Initiation"
   ]
  },
  {
   "cell_type": "code",
   "execution_count": 75,
   "metadata": {},
   "outputs": [],
   "source": [
    "import pandas as pd\n",
    "import numpy as np\n",
    "import seaborn as sns\n",
    "import matplotlib.pyplot as plt\n",
    "from datetime import datetime, date, time, timedelta\n",
    "from sklearn.metrics import accuracy_score, precision_score, recall_score, f1_score, roc_auc_score, roc_curve\n",
    "from sklearn.model_selection import train_test_split\n",
    "#importing over and undersampling algorithms from imblearn (you will have to manually install it in your envoirenment with pip install imblearn) \n",
    "from imblearn.over_sampling import SMOTE\n",
    "from imblearn.under_sampling import RandomUnderSampler\n",
    "from sklearn.metrics import confusion_matrix\n",
    "import itertools\n",
    "from sklearn.svm import SVC\n",
    "from sklearn.ensemble import AdaBoostClassifier\n",
    "from sklearn.ensemble import RandomForestClassifier\n",
    "from sklearn.linear_model import LogisticRegression\n",
    "from sklearn.neighbors import KNeighborsClassifier\n",
    "from sklearn.naive_bayes import MultinomialNB"
   ]
  },
  {
   "cell_type": "code",
   "execution_count": 76,
   "metadata": {},
   "outputs": [],
   "source": [
    "# important functions\n",
    "def plot_confusion_matrix(cm, classes,\n",
    "                          normalize=False,\n",
    "                          title='Confusion matrix',\n",
    "                          cmap=plt.cm.Oranges):\n",
    "    \"\"\"\n",
    "    This function prints and plots the confusion matrix.\n",
    "    Normalization can be applied by setting `normalize=True`.\n",
    "    Source: http://scikit-learn.org/stable/auto_examples/model_selection/plot_confusion_matrix.html\n",
    "    \"\"\"\n",
    "    if normalize:\n",
    "        cm = cm.astype('float') / cm.sum(axis=1)[:, np.newaxis]\n",
    "        print(\"Normalized confusion matrix\")\n",
    "    else:\n",
    "        print('Confusion matrix, without normalization')\n",
    "\n",
    "    print(cm)\n",
    "\n",
    "    # Plot the confusion matrix\n",
    "    plt.figure(figsize = (10, 10))\n",
    "    plt.imshow(cm, interpolation='nearest', cmap=cmap)\n",
    "    plt.title(title, size = 24)\n",
    "    plt.colorbar(aspect=4)\n",
    "    tick_marks = np.arange(len(classes))\n",
    "    plt.xticks(tick_marks, classes, rotation=45, size = 14)\n",
    "    plt.yticks(tick_marks, classes, size = 14)\n",
    "\n",
    "    fmt = '.2f' if normalize else 'd'\n",
    "    thresh = cm.max() / 2.\n",
    "    \n",
    "    # Labeling the plot\n",
    "    for i, j in itertools.product(range(cm.shape[0]), range(cm.shape[1])):\n",
    "        plt.text(j, i, format(cm[i, j], fmt), fontsize = 20,\n",
    "                 horizontalalignment=\"center\",\n",
    "                 color=\"white\" if cm[i, j] > thresh else \"black\")\n",
    "        \n",
    "    plt.grid(None)\n",
    "    plt.tight_layout()\n",
    "    plt.ylabel('True label', size = 18)\n",
    "    plt.xlabel('Predicted label', size = 18)\n",
    "\n",
    "def print_evaluations(y,predictions):\n",
    "    print(f\"Accuracy: {accuracy_score(y, predictions)}\")\n",
    "    print(f\"Precision: {precision_score(y, predictions)}\")\n",
    "    print(f\"Recall: {recall_score(y, predictions)}\")\n",
    "    print(f\"F1: {f1_score(y, predictions)}\")\n"
   ]
  },
  {
   "cell_type": "code",
   "execution_count": 77,
   "metadata": {},
   "outputs": [],
   "source": [
    "X = pd.read_csv('./data/X.csv', index_col='Unnamed: 0')\n",
    "y = pd.read_csv('./data/y.csv', index_col='Unnamed: 0')\n"
   ]
  },
  {
   "cell_type": "code",
   "execution_count": 94,
   "metadata": {},
   "outputs": [
    {
     "data": {
      "text/plain": [
       "0        6.907755\n",
       "1        2.995732\n",
       "2        6.214608\n",
       "3        9.989665\n",
       "4        6.467699\n",
       "           ...   \n",
       "95657    6.907755\n",
       "95658    6.907755\n",
       "95659    2.995732\n",
       "95660    8.006368\n",
       "95661    4.094345\n",
       "Name: Valuelog, Length: 95662, dtype: float64"
      ]
     },
     "execution_count": 94,
     "metadata": {},
     "output_type": "execute_result"
    }
   ],
   "source": [
    "X.pop('Valuelog')"
   ]
  },
  {
   "cell_type": "code",
   "execution_count": 95,
   "metadata": {},
   "outputs": [
    {
     "data": {
      "text/plain": [
       "Index(['Value', 'PricingStrategy', 'Hour', 'DirectionOfMoney',\n",
       "       'ProviderId_ProviderId_1', 'ProviderId_ProviderId_2',\n",
       "       'ProviderId_ProviderId_3', 'ProviderId_ProviderId_4',\n",
       "       'ProviderId_ProviderId_5', 'ProviderId_ProviderId_6',\n",
       "       'ProductId_ProductId_1', 'ProductId_ProductId_10',\n",
       "       'ProductId_ProductId_11', 'ProductId_ProductId_12',\n",
       "       'ProductId_ProductId_13', 'ProductId_ProductId_14',\n",
       "       'ProductId_ProductId_15', 'ProductId_ProductId_16',\n",
       "       'ProductId_ProductId_19', 'ProductId_ProductId_2',\n",
       "       'ProductId_ProductId_20', 'ProductId_ProductId_21',\n",
       "       'ProductId_ProductId_22', 'ProductId_ProductId_23',\n",
       "       'ProductId_ProductId_24', 'ProductId_ProductId_27',\n",
       "       'ProductId_ProductId_3', 'ProductId_ProductId_4',\n",
       "       'ProductId_ProductId_5', 'ProductId_ProductId_6',\n",
       "       'ProductId_ProductId_7', 'ProductId_ProductId_8',\n",
       "       'ProductId_ProductId_9', 'ChannelId_ChannelId_1',\n",
       "       'ChannelId_ChannelId_2', 'ChannelId_ChannelId_3',\n",
       "       'ChannelId_ChannelId_5', 'ProductCategory_airtime',\n",
       "       'ProductCategory_data_bundles', 'ProductCategory_financial_services',\n",
       "       'ProductCategory_movies', 'ProductCategory_other',\n",
       "       'ProductCategory_ticket', 'ProductCategory_transport',\n",
       "       'ProductCategory_tv', 'ProductCategory_utility_bill'],\n",
       "      dtype='object')"
      ]
     },
     "execution_count": 95,
     "metadata": {},
     "output_type": "execute_result"
    }
   ],
   "source": [
    "X.columns"
   ]
  },
  {
   "cell_type": "markdown",
   "metadata": {},
   "source": [
    "### Split into train and test"
   ]
  },
  {
   "cell_type": "code",
   "execution_count": 79,
   "metadata": {},
   "outputs": [],
   "source": [
    "#splitting data into train and test\n",
    "X_train, X_test, y_train, y_test = train_test_split(X, y, test_size=0.33, random_state=42)"
   ]
  },
  {
   "cell_type": "markdown",
   "metadata": {},
   "source": [
    "Standardize continuous variables"
   ]
  },
  {
   "cell_type": "code",
   "execution_count": null,
   "metadata": {},
   "outputs": [],
   "source": []
  },
  {
   "cell_type": "code",
   "execution_count": 80,
   "metadata": {},
   "outputs": [],
   "source": [
    "from sklearn.preprocessing import StandardScaler\n",
    "from sklearn.preprocessing import MinMaxScaler\n",
    "cont_variables = ['Value', 'Valuelog']\n",
    "scaler = MinMaxScaler()\n",
    "X_train[cont_variables] = scaler.fit_transform(X_train[cont_variables], )\n",
    "X_test[cont_variables] = scaler.fit_transform(X_test[cont_variables], )\n"
   ]
  },
  {
   "cell_type": "markdown",
   "metadata": {},
   "source": [
    "### Resample the data\n",
    "\n",
    "#### 1. Oversample Frauds"
   ]
  },
  {
   "cell_type": "code",
   "execution_count": 81,
   "metadata": {},
   "outputs": [
    {
     "data": {
      "text/plain": [
       "FraudResult    0.5\n",
       "dtype: float64"
      ]
     },
     "execution_count": 81,
     "metadata": {},
     "output_type": "execute_result"
    }
   ],
   "source": [
    "from imblearn.over_sampling import RandomOverSampler\n",
    "ros = RandomOverSampler(random_state=42)\n",
    "X_over, y_over = ros.fit_resample(X_train, y_train)\n",
    "\n",
    "np.mean(y_over)"
   ]
  },
  {
   "cell_type": "markdown",
   "metadata": {},
   "source": [
    "#### 2. Create Synthetic Fraud Data"
   ]
  },
  {
   "cell_type": "code",
   "execution_count": 82,
   "metadata": {},
   "outputs": [
    {
     "data": {
      "text/plain": [
       "FraudResult    0.5\n",
       "dtype: float64"
      ]
     },
     "execution_count": 82,
     "metadata": {},
     "output_type": "execute_result"
    }
   ],
   "source": [
    "#used smote algorithm (synthetic oversampling) to oversample fradulent class\n",
    "# dataframes of synthetic datapoints: smote_data_X, smote_data_Y\n",
    "smote_algo = SMOTE(random_state=50)\n",
    "X_syn, y_syn = smote_algo.fit_resample(X_train, y_train)\n",
    "X_syn = pd.DataFrame(data=X_syn, columns=X_train.columns)\n",
    "y_syn = pd.DataFrame(data=y_syn, columns=['FraudResult'])\n",
    "np.mean(y_syn)"
   ]
  },
  {
   "cell_type": "markdown",
   "metadata": {},
   "source": [
    "#### 3. Undersample Non-Frauds"
   ]
  },
  {
   "cell_type": "code",
   "execution_count": 83,
   "metadata": {},
   "outputs": [
    {
     "data": {
      "text/plain": [
       "FraudResult    0.5\n",
       "dtype: float64"
      ]
     },
     "execution_count": 83,
     "metadata": {},
     "output_type": "execute_result"
    }
   ],
   "source": [
    "# used randomundersampler algorithm to undersample non fradulent class\n",
    "# dataframes for undersampled data: X_res, y_res\n",
    "rus = RandomUnderSampler(random_state=50)\n",
    "X_under, y_under = rus.fit_resample(X_train, y_train)\n",
    "np.mean(y_under)"
   ]
  },
  {
   "cell_type": "markdown",
   "metadata": {},
   "source": [
    "# Model fitting"
   ]
  },
  {
   "cell_type": "code",
   "execution_count": 84,
   "metadata": {},
   "outputs": [
    {
     "name": "stderr",
     "output_type": "stream",
     "text": [
      "/var/folders/wp/ylcd0z3n66jgx_wrcv4p13v80000gn/T/ipykernel_19881/700073573.py:9: DataConversionWarning: A column-vector y was passed when a 1d array was expected. Please change the shape of y to (n_samples,), for example using ravel().\n",
      "  model_rf.fit(X_input, y_input)\n",
      "[Parallel(n_jobs=-1)]: Using backend ThreadingBackend with 8 concurrent workers.\n",
      "[Parallel(n_jobs=-1)]: Done  34 tasks      | elapsed:    0.4s\n",
      "[Parallel(n_jobs=-1)]: Done 100 out of 100 | elapsed:    1.0s finished\n",
      "/Users/kw/neuefische/fraud/.venv/lib/python3.9/site-packages/sklearn/utils/validation.py:993: DataConversionWarning: A column-vector y was passed when a 1d array was expected. Please change the shape of y to (n_samples, ), for example using ravel().\n",
      "  y = column_or_1d(y, warn=True)\n",
      "/Users/kw/neuefische/fraud/.venv/lib/python3.9/site-packages/sklearn/linear_model/_logistic.py:814: ConvergenceWarning: lbfgs failed to converge (status=1):\n",
      "STOP: TOTAL NO. of ITERATIONS REACHED LIMIT.\n",
      "\n",
      "Increase the number of iterations (max_iter) or scale the data as shown in:\n",
      "    https://scikit-learn.org/stable/modules/preprocessing.html\n",
      "Please also refer to the documentation for alternative solver options:\n",
      "    https://scikit-learn.org/stable/modules/linear_model.html#logistic-regression\n",
      "  n_iter_i = _check_optimize_result(\n",
      "/Users/kw/neuefische/fraud/.venv/lib/python3.9/site-packages/sklearn/neighbors/_classification.py:198: DataConversionWarning: A column-vector y was passed when a 1d array was expected. Please change the shape of y to (n_samples,), for example using ravel().\n",
      "  return self._fit(X, y)\n",
      "/Users/kw/neuefische/fraud/.venv/lib/python3.9/site-packages/sklearn/utils/validation.py:993: DataConversionWarning: A column-vector y was passed when a 1d array was expected. Please change the shape of y to (n_samples, ), for example using ravel().\n",
      "  y = column_or_1d(y, warn=True)\n"
     ]
    },
    {
     "data": {
      "text/plain": [
       "SVC(probability=True, random_state=50)"
      ]
     },
     "execution_count": 84,
     "metadata": {},
     "output_type": "execute_result"
    }
   ],
   "source": [
    "X_input = X_over\n",
    "y_input = y_over\n",
    "\n",
    "# random forest\n",
    "model_rf = RandomForestClassifier(n_estimators=100, \n",
    "                               random_state=50, \n",
    "                               max_features = 'sqrt',\n",
    "                               n_jobs=-1, verbose = 1)\n",
    "model_rf.fit(X_input, y_input)\n",
    "\n",
    "# logistic\n",
    "model_log = LogisticRegression(random_state=50).fit(X_input, y_input)\n",
    "\n",
    "# knn\n",
    "model_knn = KNeighborsClassifier(n_neighbors=5)\n",
    "model_knn.fit(X_input, y_input)\n",
    "\n",
    "## naive\n",
    "#model_naive = MultinomialNB()\n",
    "#model_naive.fit(X_input, y_input)\n",
    "\n",
    "# svm\n",
    "model_svm = SVC(random_state = 50, probability = True)\n",
    "model_svm.fit(X_input, y_input)\n"
   ]
  },
  {
   "cell_type": "markdown",
   "metadata": {},
   "source": [
    "Evaluation of Train Data"
   ]
  },
  {
   "cell_type": "code",
   "execution_count": 85,
   "metadata": {},
   "outputs": [
    {
     "name": "stderr",
     "output_type": "stream",
     "text": [
      "[Parallel(n_jobs=8)]: Using backend ThreadingBackend with 8 concurrent workers.\n",
      "[Parallel(n_jobs=8)]: Done  34 tasks      | elapsed:    0.1s\n",
      "[Parallel(n_jobs=8)]: Done 100 out of 100 | elapsed:    0.1s finished\n",
      "[Parallel(n_jobs=8)]: Using backend ThreadingBackend with 8 concurrent workers.\n",
      "[Parallel(n_jobs=8)]: Done  34 tasks      | elapsed:    0.0s\n",
      "[Parallel(n_jobs=8)]: Done 100 out of 100 | elapsed:    0.1s finished\n"
     ]
    }
   ],
   "source": [
    "# rf\n",
    "train_rf_predictions = model_rf.predict(X_input)\n",
    "train_rf_probs = model_rf.predict_proba(X_input)[:, 1]\n",
    "\n",
    "# log\n",
    "train_log_predictions = model_log.predict(X_input)\n",
    "train_log_probs = model_log.predict_proba(X_input)[:, 1]\n",
    "\n",
    "# knn\n",
    "train_knn_predictions = model_knn.predict(X_input)\n",
    "train_knn_probs = model_knn.predict_proba(X_input)[:, 1]\n",
    "\n",
    "#naive\n",
    "#train_naive_predictions = model_naive.predict(X_input)\n",
    "#train_naive_probs = model_naive.predict_proba(X_input)[:, 1]\n",
    "\n",
    "# svm\n",
    "train_svm_predictions = model_svm.predict(X_input)\n",
    "train_svm_probs = model_svm.predict_proba(X_input)[:, 1]"
   ]
  },
  {
   "cell_type": "code",
   "execution_count": 86,
   "metadata": {},
   "outputs": [
    {
     "name": "stdout",
     "output_type": "stream",
     "text": [
      "0\n",
      "Accuracy: 0.9998202141796295\n",
      "Precision: 0.9996405576045508\n",
      "Recall: 1.0\n",
      "F1: 0.9998202464967605\n",
      "1\n",
      "Accuracy: 0.9923317439224576\n",
      "Precision: 0.9924626258835304\n",
      "Recall: 0.9921988587508794\n",
      "F1: 0.9923307247895053\n",
      "2\n",
      "Accuracy: 0.9993433909169077\n",
      "Precision: 0.9986885041140376\n",
      "Recall: 1.0\n",
      "F1: 0.999343821769494\n",
      "3\n",
      "Accuracy: 0.9910107089814743\n",
      "Precision: 0.9898466865261943\n",
      "Recall: 0.9921988587508794\n",
      "F1: 0.9910213769304039\n"
     ]
    }
   ],
   "source": [
    "for i,p in enumerate([train_rf_predictions, train_log_predictions, train_knn_predictions, train_svm_predictions]):\n",
    "    print(i)#(numstr(p))\n",
    "    print_evaluations(y_input, p)\n"
   ]
  },
  {
   "cell_type": "code",
   "execution_count": 87,
   "metadata": {},
   "outputs": [
    {
     "name": "stderr",
     "output_type": "stream",
     "text": [
      "[Parallel(n_jobs=8)]: Using backend ThreadingBackend with 8 concurrent workers.\n",
      "[Parallel(n_jobs=8)]: Done  34 tasks      | elapsed:    0.0s\n",
      "[Parallel(n_jobs=8)]: Done 100 out of 100 | elapsed:    0.0s finished\n",
      "[Parallel(n_jobs=8)]: Using backend ThreadingBackend with 8 concurrent workers.\n",
      "[Parallel(n_jobs=8)]: Done  34 tasks      | elapsed:    0.0s\n",
      "[Parallel(n_jobs=8)]: Done 100 out of 100 | elapsed:    0.0s finished\n"
     ]
    }
   ],
   "source": [
    "# rf\n",
    "test_rf_predictions = model_rf.predict(X_test)\n",
    "test_rf_probs = model_rf.predict_proba(X_test)[:, 1]\n",
    "\n",
    "# log\n",
    "test_log_predictions = model_log.predict(X_test)\n",
    "test_log_probs = model_log.predict_proba(X_test)[:, 1]\n",
    "\n",
    "# knn\n",
    "test_knn_predictions = model_knn.predict(X_test)\n",
    "test_knn_probs = model_knn.predict_proba(X_test)[:, 1]\n",
    "\n",
    "#naive\n",
    "#test_naive_predictions = model_naive.predict(X_test)\n",
    "#test_naive_probs = model_naive.predict_proba(X_test)[:, 1]\n",
    "\n",
    "# svm\n",
    "test_svm_predictions = model_svm.predict(X_test)\n",
    "test_svm_probs = model_svm.predict_proba(X_test)[:, 1]\n",
    "\n"
   ]
  },
  {
   "cell_type": "code",
   "execution_count": 88,
   "metadata": {},
   "outputs": [
    {
     "name": "stdout",
     "output_type": "stream",
     "text": [
      "0\n",
      "Accuracy: 0.9991447305901359\n",
      "Precision: 0.7435897435897436\n",
      "Recall: 0.8923076923076924\n",
      "F1: 0.8111888111888114\n",
      "1\n",
      "Accuracy: 0.9926193417593209\n",
      "Precision: 0.21621621621621623\n",
      "Recall: 0.9846153846153847\n",
      "F1: 0.3545706371191136\n",
      "2\n",
      "Accuracy: 0.9970223953878805\n",
      "Precision: 0.36936936936936937\n",
      "Recall: 0.6307692307692307\n",
      "F1: 0.4659090909090909\n",
      "3\n",
      "Accuracy: 0.9902119167537774\n",
      "Precision: 0.17204301075268819\n",
      "Recall: 0.9846153846153847\n",
      "F1: 0.2929061784897025\n"
     ]
    }
   ],
   "source": [
    "for i,p in enumerate([test_rf_predictions, test_log_predictions, test_knn_predictions, test_svm_predictions]):\n",
    "    print(i)#(numstr(p))\n",
    "    print_evaluations(y_test, p)"
   ]
  },
  {
   "cell_type": "code",
   "execution_count": 93,
   "metadata": {},
   "outputs": [
    {
     "data": {
      "text/html": [
       "<div>\n",
       "<style scoped>\n",
       "    .dataframe tbody tr th:only-of-type {\n",
       "        vertical-align: middle;\n",
       "    }\n",
       "\n",
       "    .dataframe tbody tr th {\n",
       "        vertical-align: top;\n",
       "    }\n",
       "\n",
       "    .dataframe thead th {\n",
       "        text-align: right;\n",
       "    }\n",
       "</style>\n",
       "<table border=\"1\" class=\"dataframe\">\n",
       "  <thead>\n",
       "    <tr style=\"text-align: right;\">\n",
       "      <th></th>\n",
       "      <th>feature</th>\n",
       "      <th>importance</th>\n",
       "    </tr>\n",
       "  </thead>\n",
       "  <tbody>\n",
       "    <tr>\n",
       "      <th>0</th>\n",
       "      <td>Value</td>\n",
       "      <td>3.292196e-01</td>\n",
       "    </tr>\n",
       "    <tr>\n",
       "      <th>46</th>\n",
       "      <td>Valuelog</td>\n",
       "      <td>3.266615e-01</td>\n",
       "    </tr>\n",
       "    <tr>\n",
       "      <th>16</th>\n",
       "      <td>ProductId_ProductId_15</td>\n",
       "      <td>7.762609e-02</td>\n",
       "    </tr>\n",
       "    <tr>\n",
       "      <th>9</th>\n",
       "      <td>ProviderId_ProviderId_6</td>\n",
       "      <td>3.454918e-02</td>\n",
       "    </tr>\n",
       "    <tr>\n",
       "      <th>29</th>\n",
       "      <td>ProductId_ProductId_6</td>\n",
       "      <td>3.233631e-02</td>\n",
       "    </tr>\n",
       "    <tr>\n",
       "      <th>37</th>\n",
       "      <td>ProductCategory_airtime</td>\n",
       "      <td>3.147091e-02</td>\n",
       "    </tr>\n",
       "    <tr>\n",
       "      <th>7</th>\n",
       "      <td>ProviderId_ProviderId_4</td>\n",
       "      <td>3.083782e-02</td>\n",
       "    </tr>\n",
       "    <tr>\n",
       "      <th>34</th>\n",
       "      <td>ChannelId_ChannelId_2</td>\n",
       "      <td>2.923907e-02</td>\n",
       "    </tr>\n",
       "    <tr>\n",
       "      <th>39</th>\n",
       "      <td>ProductCategory_financial_services</td>\n",
       "      <td>2.503262e-02</td>\n",
       "    </tr>\n",
       "    <tr>\n",
       "      <th>3</th>\n",
       "      <td>DirectionOfMoney</td>\n",
       "      <td>1.355469e-02</td>\n",
       "    </tr>\n",
       "    <tr>\n",
       "      <th>6</th>\n",
       "      <td>ProviderId_ProviderId_3</td>\n",
       "      <td>1.039360e-02</td>\n",
       "    </tr>\n",
       "    <tr>\n",
       "      <th>2</th>\n",
       "      <td>Hour</td>\n",
       "      <td>1.025893e-02</td>\n",
       "    </tr>\n",
       "    <tr>\n",
       "      <th>1</th>\n",
       "      <td>PricingStrategy</td>\n",
       "      <td>9.023166e-03</td>\n",
       "    </tr>\n",
       "    <tr>\n",
       "      <th>8</th>\n",
       "      <td>ProviderId_ProviderId_5</td>\n",
       "      <td>6.825061e-03</td>\n",
       "    </tr>\n",
       "    <tr>\n",
       "      <th>26</th>\n",
       "      <td>ProductId_ProductId_3</td>\n",
       "      <td>6.260031e-03</td>\n",
       "    </tr>\n",
       "    <tr>\n",
       "      <th>35</th>\n",
       "      <td>ChannelId_ChannelId_3</td>\n",
       "      <td>5.056894e-03</td>\n",
       "    </tr>\n",
       "    <tr>\n",
       "      <th>4</th>\n",
       "      <td>ProviderId_ProviderId_1</td>\n",
       "      <td>4.527356e-03</td>\n",
       "    </tr>\n",
       "    <tr>\n",
       "      <th>11</th>\n",
       "      <td>ProductId_ProductId_10</td>\n",
       "      <td>3.172896e-03</td>\n",
       "    </tr>\n",
       "    <tr>\n",
       "      <th>45</th>\n",
       "      <td>ProductCategory_utility_bill</td>\n",
       "      <td>2.580356e-03</td>\n",
       "    </tr>\n",
       "    <tr>\n",
       "      <th>43</th>\n",
       "      <td>ProductCategory_transport</td>\n",
       "      <td>1.507494e-03</td>\n",
       "    </tr>\n",
       "    <tr>\n",
       "      <th>22</th>\n",
       "      <td>ProductId_ProductId_22</td>\n",
       "      <td>1.480800e-03</td>\n",
       "    </tr>\n",
       "    <tr>\n",
       "      <th>14</th>\n",
       "      <td>ProductId_ProductId_13</td>\n",
       "      <td>1.443130e-03</td>\n",
       "    </tr>\n",
       "    <tr>\n",
       "      <th>27</th>\n",
       "      <td>ProductId_ProductId_4</td>\n",
       "      <td>9.390869e-04</td>\n",
       "    </tr>\n",
       "    <tr>\n",
       "      <th>15</th>\n",
       "      <td>ProductId_ProductId_14</td>\n",
       "      <td>7.437415e-04</td>\n",
       "    </tr>\n",
       "    <tr>\n",
       "      <th>10</th>\n",
       "      <td>ProductId_ProductId_1</td>\n",
       "      <td>7.436055e-04</td>\n",
       "    </tr>\n",
       "    <tr>\n",
       "      <th>44</th>\n",
       "      <td>ProductCategory_tv</td>\n",
       "      <td>6.126632e-04</td>\n",
       "    </tr>\n",
       "    <tr>\n",
       "      <th>28</th>\n",
       "      <td>ProductId_ProductId_5</td>\n",
       "      <td>5.855810e-04</td>\n",
       "    </tr>\n",
       "    <tr>\n",
       "      <th>33</th>\n",
       "      <td>ChannelId_ChannelId_1</td>\n",
       "      <td>5.748071e-04</td>\n",
       "    </tr>\n",
       "    <tr>\n",
       "      <th>32</th>\n",
       "      <td>ProductId_ProductId_9</td>\n",
       "      <td>5.311226e-04</td>\n",
       "    </tr>\n",
       "    <tr>\n",
       "      <th>38</th>\n",
       "      <td>ProductCategory_data_bundles</td>\n",
       "      <td>4.960142e-04</td>\n",
       "    </tr>\n",
       "    <tr>\n",
       "      <th>12</th>\n",
       "      <td>ProductId_ProductId_11</td>\n",
       "      <td>4.275961e-04</td>\n",
       "    </tr>\n",
       "    <tr>\n",
       "      <th>21</th>\n",
       "      <td>ProductId_ProductId_21</td>\n",
       "      <td>3.654978e-04</td>\n",
       "    </tr>\n",
       "    <tr>\n",
       "      <th>20</th>\n",
       "      <td>ProductId_ProductId_20</td>\n",
       "      <td>2.159207e-04</td>\n",
       "    </tr>\n",
       "    <tr>\n",
       "      <th>42</th>\n",
       "      <td>ProductCategory_ticket</td>\n",
       "      <td>1.958401e-04</td>\n",
       "    </tr>\n",
       "    <tr>\n",
       "      <th>30</th>\n",
       "      <td>ProductId_ProductId_7</td>\n",
       "      <td>1.776079e-04</td>\n",
       "    </tr>\n",
       "    <tr>\n",
       "      <th>36</th>\n",
       "      <td>ChannelId_ChannelId_5</td>\n",
       "      <td>1.579587e-04</td>\n",
       "    </tr>\n",
       "    <tr>\n",
       "      <th>18</th>\n",
       "      <td>ProductId_ProductId_19</td>\n",
       "      <td>1.065646e-04</td>\n",
       "    </tr>\n",
       "    <tr>\n",
       "      <th>40</th>\n",
       "      <td>ProductCategory_movies</td>\n",
       "      <td>2.899945e-05</td>\n",
       "    </tr>\n",
       "    <tr>\n",
       "      <th>19</th>\n",
       "      <td>ProductId_ProductId_2</td>\n",
       "      <td>1.788411e-05</td>\n",
       "    </tr>\n",
       "    <tr>\n",
       "      <th>24</th>\n",
       "      <td>ProductId_ProductId_24</td>\n",
       "      <td>1.008606e-05</td>\n",
       "    </tr>\n",
       "    <tr>\n",
       "      <th>31</th>\n",
       "      <td>ProductId_ProductId_8</td>\n",
       "      <td>7.090619e-06</td>\n",
       "    </tr>\n",
       "    <tr>\n",
       "      <th>25</th>\n",
       "      <td>ProductId_ProductId_27</td>\n",
       "      <td>2.889882e-06</td>\n",
       "    </tr>\n",
       "    <tr>\n",
       "      <th>23</th>\n",
       "      <td>ProductId_ProductId_23</td>\n",
       "      <td>1.381382e-06</td>\n",
       "    </tr>\n",
       "    <tr>\n",
       "      <th>13</th>\n",
       "      <td>ProductId_ProductId_12</td>\n",
       "      <td>4.719433e-07</td>\n",
       "    </tr>\n",
       "    <tr>\n",
       "      <th>5</th>\n",
       "      <td>ProviderId_ProviderId_2</td>\n",
       "      <td>7.193110e-08</td>\n",
       "    </tr>\n",
       "    <tr>\n",
       "      <th>17</th>\n",
       "      <td>ProductId_ProductId_16</td>\n",
       "      <td>2.439063e-08</td>\n",
       "    </tr>\n",
       "    <tr>\n",
       "      <th>41</th>\n",
       "      <td>ProductCategory_other</td>\n",
       "      <td>0.000000e+00</td>\n",
       "    </tr>\n",
       "  </tbody>\n",
       "</table>\n",
       "</div>"
      ],
      "text/plain": [
       "                               feature    importance\n",
       "0                                Value  3.292196e-01\n",
       "46                            Valuelog  3.266615e-01\n",
       "16              ProductId_ProductId_15  7.762609e-02\n",
       "9              ProviderId_ProviderId_6  3.454918e-02\n",
       "29               ProductId_ProductId_6  3.233631e-02\n",
       "37             ProductCategory_airtime  3.147091e-02\n",
       "7              ProviderId_ProviderId_4  3.083782e-02\n",
       "34               ChannelId_ChannelId_2  2.923907e-02\n",
       "39  ProductCategory_financial_services  2.503262e-02\n",
       "3                     DirectionOfMoney  1.355469e-02\n",
       "6              ProviderId_ProviderId_3  1.039360e-02\n",
       "2                                 Hour  1.025893e-02\n",
       "1                      PricingStrategy  9.023166e-03\n",
       "8              ProviderId_ProviderId_5  6.825061e-03\n",
       "26               ProductId_ProductId_3  6.260031e-03\n",
       "35               ChannelId_ChannelId_3  5.056894e-03\n",
       "4              ProviderId_ProviderId_1  4.527356e-03\n",
       "11              ProductId_ProductId_10  3.172896e-03\n",
       "45        ProductCategory_utility_bill  2.580356e-03\n",
       "43           ProductCategory_transport  1.507494e-03\n",
       "22              ProductId_ProductId_22  1.480800e-03\n",
       "14              ProductId_ProductId_13  1.443130e-03\n",
       "27               ProductId_ProductId_4  9.390869e-04\n",
       "15              ProductId_ProductId_14  7.437415e-04\n",
       "10               ProductId_ProductId_1  7.436055e-04\n",
       "44                  ProductCategory_tv  6.126632e-04\n",
       "28               ProductId_ProductId_5  5.855810e-04\n",
       "33               ChannelId_ChannelId_1  5.748071e-04\n",
       "32               ProductId_ProductId_9  5.311226e-04\n",
       "38        ProductCategory_data_bundles  4.960142e-04\n",
       "12              ProductId_ProductId_11  4.275961e-04\n",
       "21              ProductId_ProductId_21  3.654978e-04\n",
       "20              ProductId_ProductId_20  2.159207e-04\n",
       "42              ProductCategory_ticket  1.958401e-04\n",
       "30               ProductId_ProductId_7  1.776079e-04\n",
       "36               ChannelId_ChannelId_5  1.579587e-04\n",
       "18              ProductId_ProductId_19  1.065646e-04\n",
       "40              ProductCategory_movies  2.899945e-05\n",
       "19               ProductId_ProductId_2  1.788411e-05\n",
       "24              ProductId_ProductId_24  1.008606e-05\n",
       "31               ProductId_ProductId_8  7.090619e-06\n",
       "25              ProductId_ProductId_27  2.889882e-06\n",
       "23              ProductId_ProductId_23  1.381382e-06\n",
       "13              ProductId_ProductId_12  4.719433e-07\n",
       "5              ProviderId_ProviderId_2  7.193110e-08\n",
       "17              ProductId_ProductId_16  2.439063e-08\n",
       "41               ProductCategory_other  0.000000e+00"
      ]
     },
     "execution_count": 93,
     "metadata": {},
     "output_type": "execute_result"
    }
   ],
   "source": [
    "features = list(X_train.columns)\n",
    "\n",
    "fi = pd.DataFrame({'feature': features,\n",
    "                   'importance': model_rf.feature_importances_}).\\\n",
    "                    sort_values('importance', ascending = False)\n",
    "fi"
   ]
  },
  {
   "cell_type": "code",
   "execution_count": null,
   "metadata": {},
   "outputs": [],
   "source": []
  }
 ],
 "metadata": {
  "interpreter": {
   "hash": "c8f0a704e52d708eeb646c3f2c284e75ffefcbe300803376c50091c097674410"
  },
  "kernelspec": {
   "display_name": "Python 3.9.8 ('.venv': venv)",
   "language": "python",
   "name": "python3"
  },
  "language_info": {
   "codemirror_mode": {
    "name": "ipython",
    "version": 3
   },
   "file_extension": ".py",
   "mimetype": "text/x-python",
   "name": "python",
   "nbconvert_exporter": "python",
   "pygments_lexer": "ipython3",
   "version": "3.9.8"
  },
  "orig_nbformat": 4
 },
 "nbformat": 4,
 "nbformat_minor": 2
}
