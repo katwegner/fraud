{
 "cells": [
  {
   "cell_type": "markdown",
   "metadata": {},
   "source": [
    "# Pipeline for final model"
   ]
  },
  {
   "cell_type": "code",
   "execution_count": 58,
   "metadata": {},
   "outputs": [],
   "source": [
    "from sklearn.pipeline import Pipeline\n",
    "from sklearn.impute import SimpleImputer\n",
    "from sklearn.compose import ColumnTransformer\n",
    "import pandas as pd\n",
    "from datetime import datetime, date, time, timedelta\n",
    "from sklearn.preprocessing import OneHotEncoder\n",
    "import pickle\n",
    "from sklearn.ensemble import RandomForestClassifier\n",
    "from sklearn.model_selection import cross_val_predict\n",
    "import numpy as np"
   ]
  },
  {
   "cell_type": "code",
   "execution_count": 73,
   "metadata": {},
   "outputs": [],
   "source": [
    "model_rf = pickle.load(open('finalized_model.sav', 'rb'))\n",
    "train = pd.read_csv('data/X.csv', index_col='Unnamed: 0')\n"
   ]
  },
  {
   "cell_type": "code",
   "execution_count": 74,
   "metadata": {},
   "outputs": [],
   "source": [
    "submission = pd.read_csv('data/sample_submission.csv')"
   ]
  },
  {
   "cell_type": "code",
   "execution_count": 75,
   "metadata": {},
   "outputs": [
    {
     "data": {
      "text/plain": [
       "Index(['PricingStrategy_0', 'PricingStrategy_1', 'PricingStrategy_2',\n",
       "       'PricingStrategy_4', 'ProviderId_ProviderId_1',\n",
       "       'ProviderId_ProviderId_2', 'ProviderId_ProviderId_3',\n",
       "       'ProviderId_ProviderId_4', 'ProviderId_ProviderId_5',\n",
       "       'ProviderId_ProviderId_6', 'ProductId_ProductId_1',\n",
       "       'ProductId_ProductId_10', 'ProductId_ProductId_11',\n",
       "       'ProductId_ProductId_13', 'ProductId_ProductId_14',\n",
       "       'ProductId_ProductId_15', 'ProductId_ProductId_16',\n",
       "       'ProductId_ProductId_17', 'ProductId_ProductId_18',\n",
       "       'ProductId_ProductId_19', 'ProductId_ProductId_2',\n",
       "       'ProductId_ProductId_20', 'ProductId_ProductId_21',\n",
       "       'ProductId_ProductId_22', 'ProductId_ProductId_23',\n",
       "       'ProductId_ProductId_24', 'ProductId_ProductId_25',\n",
       "       'ProductId_ProductId_26', 'ProductId_ProductId_27',\n",
       "       'ProductId_ProductId_3', 'ProductId_ProductId_4',\n",
       "       'ProductId_ProductId_5', 'ProductId_ProductId_6',\n",
       "       'ProductId_ProductId_7', 'ProductId_ProductId_8',\n",
       "       'ProductId_ProductId_9', 'ChannelId_ChannelId_1',\n",
       "       'ChannelId_ChannelId_2', 'ChannelId_ChannelId_3',\n",
       "       'ChannelId_ChannelId_4', 'ChannelId_ChannelId_5',\n",
       "       'ProductCategory_airtime', 'ProductCategory_data_bundles',\n",
       "       'ProductCategory_financial_services', 'ProductCategory_movies',\n",
       "       'ProductCategory_retail', 'ProductCategory_ticket',\n",
       "       'ProductCategory_transport', 'ProductCategory_tv',\n",
       "       'ProductCategory_utility_bill', 'Hour_0', 'Hour_1', 'Hour_2', 'Hour_3',\n",
       "       'Hour_4', 'Hour_5', 'Hour_6', 'Hour_7', 'Hour_8', 'Hour_9', 'Hour_10',\n",
       "       'Hour_11', 'Hour_12', 'Hour_13', 'Hour_14', 'Hour_15', 'Hour_16',\n",
       "       'Hour_17', 'Hour_18', 'Hour_19', 'Hour_20', 'Hour_21', 'Hour_22',\n",
       "       'Hour_23', 'Value', 'DirectionOfMoney'],\n",
       "      dtype='object')"
      ]
     },
     "execution_count": 75,
     "metadata": {},
     "output_type": "execute_result"
    }
   ],
   "source": [
    "X = pd.read_csv('data/test.csv')\n",
    "test_id = X.TransactionId\n",
    "\n",
    "X['TransactionStartTime'] = pd.to_datetime(X['TransactionStartTime'], format='%Y-%m-%dT%H:%M:%SZ')\n",
    "X['Hour'] = X['TransactionStartTime'].dt.hour\n",
    "\n",
    "X.loc[X['Amount'] >= 0, 'DirectionOfMoney'] = 0\n",
    "X.loc[X['Amount'] < 0, 'DirectionOfMoney'] = 1\n",
    "\n",
    "cat_var = ['PricingStrategy', 'ProviderId', 'ProductId', 'ChannelId', 'ProductCategory', 'Hour']\n",
    "con_variables = ['Value', 'DirectionOfMoney']\n",
    "features_cat = pd.get_dummies(X[cat_var], columns=cat_var)\n",
    "features_cat\n",
    "data = features_cat.merge(X[con_variables], left_index=True, right_index=True, how='inner')\n",
    "data.columns"
   ]
  },
  {
   "cell_type": "code",
   "execution_count": 84,
   "metadata": {},
   "outputs": [
    {
     "name": "stdout",
     "output_type": "stream",
     "text": [
      "[ True  True  True  True  True  True  True  True  True  True  True  True\n",
      "  True  True  True  True  True False False False False False False False\n",
      " False False False False False False False False False False False False\n",
      " False False False False False False False False False False False False\n",
      " False False False False False False False False False False False False\n",
      " False False False False False False False False False False False False\n",
      " False False False False]\n"
     ]
    }
   ],
   "source": [
    "print(data.columns== train.columns)"
   ]
  },
  {
   "cell_type": "code",
   "execution_count": 76,
   "metadata": {},
   "outputs": [
    {
     "data": {
      "text/plain": [
       "Index(['PricingStrategy_0', 'PricingStrategy_1', 'PricingStrategy_2',\n",
       "       'PricingStrategy_4', 'ProviderId_ProviderId_1',\n",
       "       'ProviderId_ProviderId_2', 'ProviderId_ProviderId_3',\n",
       "       'ProviderId_ProviderId_4', 'ProviderId_ProviderId_5',\n",
       "       'ProviderId_ProviderId_6', 'ProductId_ProductId_1',\n",
       "       'ProductId_ProductId_10', 'ProductId_ProductId_11',\n",
       "       'ProductId_ProductId_13', 'ProductId_ProductId_14',\n",
       "       'ProductId_ProductId_15', 'ProductId_ProductId_16',\n",
       "       'ProductId_ProductId_19', 'ProductId_ProductId_2',\n",
       "       'ProductId_ProductId_20', 'ProductId_ProductId_21',\n",
       "       'ProductId_ProductId_22', 'ProductId_ProductId_23',\n",
       "       'ProductId_ProductId_24', 'ProductId_ProductId_27',\n",
       "       'ProductId_ProductId_3', 'ProductId_ProductId_4',\n",
       "       'ProductId_ProductId_5', 'ProductId_ProductId_6',\n",
       "       'ProductId_ProductId_7', 'ProductId_ProductId_8',\n",
       "       'ProductId_ProductId_9', 'ChannelId_ChannelId_1',\n",
       "       'ChannelId_ChannelId_2', 'ChannelId_ChannelId_3',\n",
       "       'ChannelId_ChannelId_5', 'ProductCategory_airtime',\n",
       "       'ProductCategory_data_bundles', 'ProductCategory_financial_services',\n",
       "       'ProductCategory_movies', 'ProductCategory_ticket',\n",
       "       'ProductCategory_transport', 'ProductCategory_tv',\n",
       "       'ProductCategory_utility_bill', 'Hour_0', 'Hour_1', 'Hour_2', 'Hour_3',\n",
       "       'Hour_4', 'Hour_5', 'Hour_6', 'Hour_7', 'Hour_8', 'Hour_9', 'Hour_10',\n",
       "       'Hour_11', 'Hour_12', 'Hour_13', 'Hour_14', 'Hour_15', 'Hour_16',\n",
       "       'Hour_17', 'Hour_18', 'Hour_19', 'Hour_20', 'Hour_21', 'Hour_22',\n",
       "       'Hour_23', 'Value', 'DirectionOfMoney', 'ChannelId_ChannelId_4',\n",
       "       'ProductCategory_retail', 'ProductId_ProductId_17',\n",
       "       'ProductId_ProductId_18', 'ProductId_ProductId_25',\n",
       "       'ProductId_ProductId_26'],\n",
       "      dtype='object')"
      ]
     },
     "execution_count": 76,
     "metadata": {},
     "output_type": "execute_result"
    }
   ],
   "source": [
    "train.columns"
   ]
  },
  {
   "cell_type": "code",
   "execution_count": 82,
   "metadata": {},
   "outputs": [
    {
     "name": "stderr",
     "output_type": "stream",
     "text": [
      "/Users/corneliusbohle/Desktop/neuefische/fraud/.venv/lib/python3.9/site-packages/sklearn/base.py:493: FutureWarning: The feature names should match those that were passed during fit. Starting version 1.2, an error will be raised.\n",
      "Feature names must be in the same order as they were in fit.\n",
      "\n",
      "  warnings.warn(message, FutureWarning)\n",
      "[Parallel(n_jobs=8)]: Using backend ThreadingBackend with 8 concurrent workers.\n",
      "[Parallel(n_jobs=8)]: Done  34 tasks      | elapsed:    0.0s\n",
      "[Parallel(n_jobs=8)]: Done 184 tasks      | elapsed:    0.1s\n",
      "[Parallel(n_jobs=8)]: Done 434 tasks      | elapsed:    0.2s\n",
      "[Parallel(n_jobs=8)]: Done 500 out of 500 | elapsed:    0.2s finished\n"
     ]
    }
   ],
   "source": [
    "predictions = model_rf.predict(data)"
   ]
  },
  {
   "cell_type": "code",
   "execution_count": 78,
   "metadata": {},
   "outputs": [],
   "source": [
    "results = pd.DataFrame({'TransactionId': test_id,\n",
    "'FraudResult': predictions})\n"
   ]
  },
  {
   "cell_type": "code",
   "execution_count": 79,
   "metadata": {},
   "outputs": [],
   "source": [
    "results.to_csv('result.csv', index=False)"
   ]
  },
  {
   "cell_type": "code",
   "execution_count": 46,
   "metadata": {},
   "outputs": [
    {
     "ename": "TypeError",
     "evalue": "_savetxt_dispatcher() missing 1 required positional argument: 'X'",
     "output_type": "error",
     "traceback": [
      "\u001b[0;31m---------------------------------------------------------------------------\u001b[0m",
      "\u001b[0;31mTypeError\u001b[0m                                 Traceback (most recent call last)",
      "\u001b[1;32m/Users/corneliusbohle/Desktop/neuefische/fraud/pipeline.ipynb Cell 9'\u001b[0m in \u001b[0;36m<cell line: 1>\u001b[0;34m()\u001b[0m\n\u001b[0;32m----> <a href='vscode-notebook-cell:/Users/corneliusbohle/Desktop/neuefische/fraud/pipeline.ipynb#ch0000007?line=0'>1</a>\u001b[0m np\u001b[39m.\u001b[39;49msavetxt(\u001b[39m\"\u001b[39;49m\u001b[39mpredictions.txt\u001b[39;49m\u001b[39m\"\u001b[39;49m, delimiter\u001b[39m=\u001b[39;49m\u001b[39m'\u001b[39;49m\u001b[39m,\u001b[39;49m\u001b[39m'\u001b[39;49m)\n",
      "File \u001b[0;32m<__array_function__ internals>:179\u001b[0m, in \u001b[0;36msavetxt\u001b[0;34m(*args, **kwargs)\u001b[0m\n",
      "\u001b[0;31mTypeError\u001b[0m: _savetxt_dispatcher() missing 1 required positional argument: 'X'"
     ]
    }
   ],
   "source": [
    "np.savetxt(\"predictions.txt\", delimiter=',')"
   ]
  },
  {
   "cell_type": "code",
   "execution_count": 83,
   "metadata": {},
   "outputs": [
    {
     "data": {
      "text/plain": [
       "0"
      ]
     },
     "execution_count": 83,
     "metadata": {},
     "output_type": "execute_result"
    }
   ],
   "source": [
    "sum(predictions)"
   ]
  },
  {
   "cell_type": "code",
   "execution_count": null,
   "metadata": {},
   "outputs": [],
   "source": []
  },
  {
   "cell_type": "code",
   "execution_count": 31,
   "metadata": {},
   "outputs": [
    {
     "data": {
      "text/plain": [
       "Index(['Value', 'PricingStrategy', 'Hour', 'DirectionOfMoney',\n",
       "       'ProviderId_ProviderId_1', 'ProviderId_ProviderId_2',\n",
       "       'ProviderId_ProviderId_3', 'ProviderId_ProviderId_4',\n",
       "       'ProviderId_ProviderId_5', 'ProviderId_ProviderId_6',\n",
       "       'ProductId_ProductId_1', 'ProductId_ProductId_10',\n",
       "       'ProductId_ProductId_11', 'ProductId_ProductId_13',\n",
       "       'ProductId_ProductId_14', 'ProductId_ProductId_15',\n",
       "       'ProductId_ProductId_16', 'ProductId_ProductId_19',\n",
       "       'ProductId_ProductId_2', 'ProductId_ProductId_20',\n",
       "       'ProductId_ProductId_21', 'ProductId_ProductId_22',\n",
       "       'ProductId_ProductId_23', 'ProductId_ProductId_24',\n",
       "       'ProductId_ProductId_27', 'ProductId_ProductId_3',\n",
       "       'ProductId_ProductId_4', 'ProductId_ProductId_5',\n",
       "       'ProductId_ProductId_6', 'ProductId_ProductId_7',\n",
       "       'ProductId_ProductId_8', 'ProductId_ProductId_9',\n",
       "       'ChannelId_ChannelId_1', 'ChannelId_ChannelId_2',\n",
       "       'ChannelId_ChannelId_3', 'ChannelId_ChannelId_5',\n",
       "       'ProductCategory_airtime', 'ProductCategory_data_bundles',\n",
       "       'ProductCategory_financial_services', 'ProductCategory_movies',\n",
       "       'ProductCategory_ticket', 'ProductCategory_transport',\n",
       "       'ProductCategory_tv', 'ProductCategory_utility_bill',\n",
       "       'ChannelId_ChannelId_4', 'ProductCategory_retail',\n",
       "       'ProductId_ProductId_17', 'ProductId_ProductId_18',\n",
       "       'ProductId_ProductId_25', 'ProductId_ProductId_26'],\n",
       "      dtype='object')"
      ]
     },
     "execution_count": 31,
     "metadata": {},
     "output_type": "execute_result"
    }
   ],
   "source": [
    "train.columns"
   ]
  },
  {
   "cell_type": "code",
   "execution_count": 32,
   "metadata": {},
   "outputs": [
    {
     "data": {
      "text/plain": [
       "Index(['Value', 'PricingStrategy', 'Hour', 'DirectionOfMoney',\n",
       "       'ProviderId_ProviderId_1', 'ProviderId_ProviderId_2',\n",
       "       'ProviderId_ProviderId_3', 'ProviderId_ProviderId_4',\n",
       "       'ProviderId_ProviderId_5', 'ProviderId_ProviderId_6',\n",
       "       'ProductId_ProductId_1', 'ProductId_ProductId_10',\n",
       "       'ProductId_ProductId_11', 'ProductId_ProductId_13',\n",
       "       'ProductId_ProductId_14', 'ProductId_ProductId_15',\n",
       "       'ProductId_ProductId_16', 'ProductId_ProductId_19',\n",
       "       'ProductId_ProductId_2', 'ProductId_ProductId_20',\n",
       "       'ProductId_ProductId_21', 'ProductId_ProductId_22',\n",
       "       'ProductId_ProductId_23', 'ProductId_ProductId_24',\n",
       "       'ProductId_ProductId_27', 'ProductId_ProductId_3',\n",
       "       'ProductId_ProductId_4', 'ProductId_ProductId_5',\n",
       "       'ProductId_ProductId_6', 'ProductId_ProductId_7',\n",
       "       'ProductId_ProductId_8', 'ProductId_ProductId_9',\n",
       "       'ChannelId_ChannelId_1', 'ChannelId_ChannelId_2',\n",
       "       'ChannelId_ChannelId_3', 'ChannelId_ChannelId_5',\n",
       "       'ProductCategory_airtime', 'ProductCategory_data_bundles',\n",
       "       'ProductCategory_financial_services', 'ProductCategory_movies',\n",
       "       'ProductCategory_ticket', 'ProductCategory_transport',\n",
       "       'ProductCategory_tv', 'ProductCategory_utility_bill',\n",
       "       'ChannelId_ChannelId_4', 'ProductCategory_retail',\n",
       "       'ProductId_ProductId_17', 'ProductId_ProductId_18',\n",
       "       'ProductId_ProductId_25', 'ProductId_ProductId_26'],\n",
       "      dtype='object')"
      ]
     },
     "execution_count": 32,
     "metadata": {},
     "output_type": "execute_result"
    }
   ],
   "source": [
    "train.columns"
   ]
  },
  {
   "cell_type": "code",
   "execution_count": 28,
   "metadata": {},
   "outputs": [
    {
     "data": {
      "text/plain": [
       "Index(['TransactionId', 'BatchId', 'AccountId', 'SubscriptionId', 'CustomerId',\n",
       "       'CurrencyCode', 'CountryCode', 'ProviderId', 'ProductId',\n",
       "       'ProductCategory', 'ChannelId', 'Amount', 'Value',\n",
       "       'TransactionStartTime', 'PricingStrategy', 'FraudResult'],\n",
       "      dtype='object')"
      ]
     },
     "execution_count": 28,
     "metadata": {},
     "output_type": "execute_result"
    }
   ],
   "source": [
    "data.columns"
   ]
  },
  {
   "cell_type": "code",
   "execution_count": 58,
   "metadata": {},
   "outputs": [],
   "source": [
    "X['TransactionStartTime'] = pd.to_datetime(X['TransactionStartTime'], format='%Y-%m-%dT%H:%M:%SZ')\n",
    "X['Hour'] = X['TransactionStartTime'].dt.hour\n",
    "\n",
    "X.loc[X['Amount'] >= 0, 'DirectionOfMoney'] = 0\n",
    "X.loc[X['Amount'] < 0, 'DirectionOfMoney'] = 1"
   ]
  },
  {
   "cell_type": "code",
   "execution_count": 67,
   "metadata": {},
   "outputs": [],
   "source": [
    "cat_var = ['PricingStrategy', 'ProviderId', 'ProductId', 'ChannelId', 'ProductCategory', 'Hour', 'DirectionOfMoney']\n",
    "num_var = ['Value']"
   ]
  },
  {
   "cell_type": "code",
   "execution_count": null,
   "metadata": {},
   "outputs": [],
   "source": []
  },
  {
   "cell_type": "code",
   "execution_count": 60,
   "metadata": {},
   "outputs": [],
   "source": [
    "num_pipeline = Pipeline([\n",
    "    \n",
    "    ('imputer_num', SimpleImputer(strategy='median'))])\n",
    "\n",
    "cat_pipeline = Pipeline([\n",
    "    ('imputer_cat', SimpleImputer(strategy='constant', fill_value='missing')),\n",
    "    ('1hot', OneHotEncoder(handle_unknown='ignore'))\n",
    "])"
   ]
  },
  {
   "cell_type": "code",
   "execution_count": 61,
   "metadata": {},
   "outputs": [],
   "source": [
    "preprocessor = ColumnTransformer([\n",
    "    ('num', num_pipeline, num_var),\n",
    "    ('cat', cat_pipeline, cat_var)\n",
    "])"
   ]
  },
  {
   "cell_type": "code",
   "execution_count": 62,
   "metadata": {},
   "outputs": [],
   "source": [
    "\n",
    "pipe_rf = Pipeline([\n",
    "    ('preprocessor', preprocessor),\n",
    "    ('model_rf', model_rf)\n",
    "])"
   ]
  },
  {
   "cell_type": "code",
   "execution_count": 101,
   "metadata": {},
   "outputs": [
    {
     "ename": "TypeError",
     "evalue": "unhashable type: 'list'",
     "output_type": "error",
     "traceback": [
      "\u001b[0;31m---------------------------------------------------------------------------\u001b[0m",
      "\u001b[0;31mTypeError\u001b[0m                                 Traceback (most recent call last)",
      "\u001b[1;32m/Users/corneliusbohle/Desktop/neuefische/fraud/pipeline.ipynb Cell 18'\u001b[0m in \u001b[0;36m<cell line: 1>\u001b[0;34m()\u001b[0m\n\u001b[0;32m----> <a href='vscode-notebook-cell:/Users/corneliusbohle/Desktop/neuefische/fraud/pipeline.ipynb#ch0000004?line=0'>1</a>\u001b[0m y_train_predicted \u001b[39m=\u001b[39m cross_val_predict(pipe_rf, X, cv\u001b[39m=\u001b[39;49m\u001b[39m5\u001b[39;49m)\n",
      "File \u001b[0;32m~/Desktop/neuefische/fraud/.venv/lib/python3.9/site-packages/sklearn/model_selection/_validation.py:962\u001b[0m, in \u001b[0;36mcross_val_predict\u001b[0;34m(estimator, X, y, groups, cv, n_jobs, verbose, fit_params, pre_dispatch, method)\u001b[0m\n\u001b[1;32m    <a href='file:///Users/corneliusbohle/Desktop/neuefische/fraud/.venv/lib/python3.9/site-packages/sklearn/model_selection/_validation.py?line=958'>959</a>\u001b[0m \u001b[39m# We clone the estimator to make sure that all the folds are\u001b[39;00m\n\u001b[1;32m    <a href='file:///Users/corneliusbohle/Desktop/neuefische/fraud/.venv/lib/python3.9/site-packages/sklearn/model_selection/_validation.py?line=959'>960</a>\u001b[0m \u001b[39m# independent, and that it is pickle-able.\u001b[39;00m\n\u001b[1;32m    <a href='file:///Users/corneliusbohle/Desktop/neuefische/fraud/.venv/lib/python3.9/site-packages/sklearn/model_selection/_validation.py?line=960'>961</a>\u001b[0m parallel \u001b[39m=\u001b[39m Parallel(n_jobs\u001b[39m=\u001b[39mn_jobs, verbose\u001b[39m=\u001b[39mverbose, pre_dispatch\u001b[39m=\u001b[39mpre_dispatch)\n\u001b[0;32m--> <a href='file:///Users/corneliusbohle/Desktop/neuefische/fraud/.venv/lib/python3.9/site-packages/sklearn/model_selection/_validation.py?line=961'>962</a>\u001b[0m predictions \u001b[39m=\u001b[39m parallel(\n\u001b[1;32m    <a href='file:///Users/corneliusbohle/Desktop/neuefische/fraud/.venv/lib/python3.9/site-packages/sklearn/model_selection/_validation.py?line=962'>963</a>\u001b[0m     delayed(_fit_and_predict)(\n\u001b[1;32m    <a href='file:///Users/corneliusbohle/Desktop/neuefische/fraud/.venv/lib/python3.9/site-packages/sklearn/model_selection/_validation.py?line=963'>964</a>\u001b[0m         clone(estimator), X, y, train, test, verbose, fit_params, method\n\u001b[1;32m    <a href='file:///Users/corneliusbohle/Desktop/neuefische/fraud/.venv/lib/python3.9/site-packages/sklearn/model_selection/_validation.py?line=964'>965</a>\u001b[0m     )\n\u001b[1;32m    <a href='file:///Users/corneliusbohle/Desktop/neuefische/fraud/.venv/lib/python3.9/site-packages/sklearn/model_selection/_validation.py?line=965'>966</a>\u001b[0m     \u001b[39mfor\u001b[39;49;00m train, test \u001b[39min\u001b[39;49;00m splits\n\u001b[1;32m    <a href='file:///Users/corneliusbohle/Desktop/neuefische/fraud/.venv/lib/python3.9/site-packages/sklearn/model_selection/_validation.py?line=966'>967</a>\u001b[0m )\n\u001b[1;32m    <a href='file:///Users/corneliusbohle/Desktop/neuefische/fraud/.venv/lib/python3.9/site-packages/sklearn/model_selection/_validation.py?line=968'>969</a>\u001b[0m inv_test_indices \u001b[39m=\u001b[39m np\u001b[39m.\u001b[39mempty(\u001b[39mlen\u001b[39m(test_indices), dtype\u001b[39m=\u001b[39m\u001b[39mint\u001b[39m)\n\u001b[1;32m    <a href='file:///Users/corneliusbohle/Desktop/neuefische/fraud/.venv/lib/python3.9/site-packages/sklearn/model_selection/_validation.py?line=969'>970</a>\u001b[0m inv_test_indices[test_indices] \u001b[39m=\u001b[39m np\u001b[39m.\u001b[39marange(\u001b[39mlen\u001b[39m(test_indices))\n",
      "File \u001b[0;32m~/Desktop/neuefische/fraud/.venv/lib/python3.9/site-packages/joblib/parallel.py:1043\u001b[0m, in \u001b[0;36mParallel.__call__\u001b[0;34m(self, iterable)\u001b[0m\n\u001b[1;32m   <a href='file:///Users/corneliusbohle/Desktop/neuefische/fraud/.venv/lib/python3.9/site-packages/joblib/parallel.py?line=1033'>1034</a>\u001b[0m \u001b[39mtry\u001b[39;00m:\n\u001b[1;32m   <a href='file:///Users/corneliusbohle/Desktop/neuefische/fraud/.venv/lib/python3.9/site-packages/joblib/parallel.py?line=1034'>1035</a>\u001b[0m     \u001b[39m# Only set self._iterating to True if at least a batch\u001b[39;00m\n\u001b[1;32m   <a href='file:///Users/corneliusbohle/Desktop/neuefische/fraud/.venv/lib/python3.9/site-packages/joblib/parallel.py?line=1035'>1036</a>\u001b[0m     \u001b[39m# was dispatched. In particular this covers the edge\u001b[39;00m\n\u001b[0;32m   (...)\u001b[0m\n\u001b[1;32m   <a href='file:///Users/corneliusbohle/Desktop/neuefische/fraud/.venv/lib/python3.9/site-packages/joblib/parallel.py?line=1039'>1040</a>\u001b[0m     \u001b[39m# was very quick and its callback already dispatched all the\u001b[39;00m\n\u001b[1;32m   <a href='file:///Users/corneliusbohle/Desktop/neuefische/fraud/.venv/lib/python3.9/site-packages/joblib/parallel.py?line=1040'>1041</a>\u001b[0m     \u001b[39m# remaining jobs.\u001b[39;00m\n\u001b[1;32m   <a href='file:///Users/corneliusbohle/Desktop/neuefische/fraud/.venv/lib/python3.9/site-packages/joblib/parallel.py?line=1041'>1042</a>\u001b[0m     \u001b[39mself\u001b[39m\u001b[39m.\u001b[39m_iterating \u001b[39m=\u001b[39m \u001b[39mFalse\u001b[39;00m\n\u001b[0;32m-> <a href='file:///Users/corneliusbohle/Desktop/neuefische/fraud/.venv/lib/python3.9/site-packages/joblib/parallel.py?line=1042'>1043</a>\u001b[0m     \u001b[39mif\u001b[39;00m \u001b[39mself\u001b[39;49m\u001b[39m.\u001b[39;49mdispatch_one_batch(iterator):\n\u001b[1;32m   <a href='file:///Users/corneliusbohle/Desktop/neuefische/fraud/.venv/lib/python3.9/site-packages/joblib/parallel.py?line=1043'>1044</a>\u001b[0m         \u001b[39mself\u001b[39m\u001b[39m.\u001b[39m_iterating \u001b[39m=\u001b[39m \u001b[39mself\u001b[39m\u001b[39m.\u001b[39m_original_iterator \u001b[39mis\u001b[39;00m \u001b[39mnot\u001b[39;00m \u001b[39mNone\u001b[39;00m\n\u001b[1;32m   <a href='file:///Users/corneliusbohle/Desktop/neuefische/fraud/.venv/lib/python3.9/site-packages/joblib/parallel.py?line=1045'>1046</a>\u001b[0m     \u001b[39mwhile\u001b[39;00m \u001b[39mself\u001b[39m\u001b[39m.\u001b[39mdispatch_one_batch(iterator):\n",
      "File \u001b[0;32m~/Desktop/neuefische/fraud/.venv/lib/python3.9/site-packages/joblib/parallel.py:861\u001b[0m, in \u001b[0;36mParallel.dispatch_one_batch\u001b[0;34m(self, iterator)\u001b[0m\n\u001b[1;32m    <a href='file:///Users/corneliusbohle/Desktop/neuefische/fraud/.venv/lib/python3.9/site-packages/joblib/parallel.py?line=858'>859</a>\u001b[0m     \u001b[39mreturn\u001b[39;00m \u001b[39mFalse\u001b[39;00m\n\u001b[1;32m    <a href='file:///Users/corneliusbohle/Desktop/neuefische/fraud/.venv/lib/python3.9/site-packages/joblib/parallel.py?line=859'>860</a>\u001b[0m \u001b[39melse\u001b[39;00m:\n\u001b[0;32m--> <a href='file:///Users/corneliusbohle/Desktop/neuefische/fraud/.venv/lib/python3.9/site-packages/joblib/parallel.py?line=860'>861</a>\u001b[0m     \u001b[39mself\u001b[39;49m\u001b[39m.\u001b[39;49m_dispatch(tasks)\n\u001b[1;32m    <a href='file:///Users/corneliusbohle/Desktop/neuefische/fraud/.venv/lib/python3.9/site-packages/joblib/parallel.py?line=861'>862</a>\u001b[0m     \u001b[39mreturn\u001b[39;00m \u001b[39mTrue\u001b[39;00m\n",
      "File \u001b[0;32m~/Desktop/neuefische/fraud/.venv/lib/python3.9/site-packages/joblib/parallel.py:779\u001b[0m, in \u001b[0;36mParallel._dispatch\u001b[0;34m(self, batch)\u001b[0m\n\u001b[1;32m    <a href='file:///Users/corneliusbohle/Desktop/neuefische/fraud/.venv/lib/python3.9/site-packages/joblib/parallel.py?line=776'>777</a>\u001b[0m \u001b[39mwith\u001b[39;00m \u001b[39mself\u001b[39m\u001b[39m.\u001b[39m_lock:\n\u001b[1;32m    <a href='file:///Users/corneliusbohle/Desktop/neuefische/fraud/.venv/lib/python3.9/site-packages/joblib/parallel.py?line=777'>778</a>\u001b[0m     job_idx \u001b[39m=\u001b[39m \u001b[39mlen\u001b[39m(\u001b[39mself\u001b[39m\u001b[39m.\u001b[39m_jobs)\n\u001b[0;32m--> <a href='file:///Users/corneliusbohle/Desktop/neuefische/fraud/.venv/lib/python3.9/site-packages/joblib/parallel.py?line=778'>779</a>\u001b[0m     job \u001b[39m=\u001b[39m \u001b[39mself\u001b[39;49m\u001b[39m.\u001b[39;49m_backend\u001b[39m.\u001b[39;49mapply_async(batch, callback\u001b[39m=\u001b[39;49mcb)\n\u001b[1;32m    <a href='file:///Users/corneliusbohle/Desktop/neuefische/fraud/.venv/lib/python3.9/site-packages/joblib/parallel.py?line=779'>780</a>\u001b[0m     \u001b[39m# A job can complete so quickly than its callback is\u001b[39;00m\n\u001b[1;32m    <a href='file:///Users/corneliusbohle/Desktop/neuefische/fraud/.venv/lib/python3.9/site-packages/joblib/parallel.py?line=780'>781</a>\u001b[0m     \u001b[39m# called before we get here, causing self._jobs to\u001b[39;00m\n\u001b[1;32m    <a href='file:///Users/corneliusbohle/Desktop/neuefische/fraud/.venv/lib/python3.9/site-packages/joblib/parallel.py?line=781'>782</a>\u001b[0m     \u001b[39m# grow. To ensure correct results ordering, .insert is\u001b[39;00m\n\u001b[1;32m    <a href='file:///Users/corneliusbohle/Desktop/neuefische/fraud/.venv/lib/python3.9/site-packages/joblib/parallel.py?line=782'>783</a>\u001b[0m     \u001b[39m# used (rather than .append) in the following line\u001b[39;00m\n\u001b[1;32m    <a href='file:///Users/corneliusbohle/Desktop/neuefische/fraud/.venv/lib/python3.9/site-packages/joblib/parallel.py?line=783'>784</a>\u001b[0m     \u001b[39mself\u001b[39m\u001b[39m.\u001b[39m_jobs\u001b[39m.\u001b[39minsert(job_idx, job)\n",
      "File \u001b[0;32m~/Desktop/neuefische/fraud/.venv/lib/python3.9/site-packages/joblib/_parallel_backends.py:208\u001b[0m, in \u001b[0;36mSequentialBackend.apply_async\u001b[0;34m(self, func, callback)\u001b[0m\n\u001b[1;32m    <a href='file:///Users/corneliusbohle/Desktop/neuefische/fraud/.venv/lib/python3.9/site-packages/joblib/_parallel_backends.py?line=205'>206</a>\u001b[0m \u001b[39mdef\u001b[39;00m \u001b[39mapply_async\u001b[39m(\u001b[39mself\u001b[39m, func, callback\u001b[39m=\u001b[39m\u001b[39mNone\u001b[39;00m):\n\u001b[1;32m    <a href='file:///Users/corneliusbohle/Desktop/neuefische/fraud/.venv/lib/python3.9/site-packages/joblib/_parallel_backends.py?line=206'>207</a>\u001b[0m     \u001b[39m\"\"\"Schedule a func to be run\"\"\"\u001b[39;00m\n\u001b[0;32m--> <a href='file:///Users/corneliusbohle/Desktop/neuefische/fraud/.venv/lib/python3.9/site-packages/joblib/_parallel_backends.py?line=207'>208</a>\u001b[0m     result \u001b[39m=\u001b[39m ImmediateResult(func)\n\u001b[1;32m    <a href='file:///Users/corneliusbohle/Desktop/neuefische/fraud/.venv/lib/python3.9/site-packages/joblib/_parallel_backends.py?line=208'>209</a>\u001b[0m     \u001b[39mif\u001b[39;00m callback:\n\u001b[1;32m    <a href='file:///Users/corneliusbohle/Desktop/neuefische/fraud/.venv/lib/python3.9/site-packages/joblib/_parallel_backends.py?line=209'>210</a>\u001b[0m         callback(result)\n",
      "File \u001b[0;32m~/Desktop/neuefische/fraud/.venv/lib/python3.9/site-packages/joblib/_parallel_backends.py:572\u001b[0m, in \u001b[0;36mImmediateResult.__init__\u001b[0;34m(self, batch)\u001b[0m\n\u001b[1;32m    <a href='file:///Users/corneliusbohle/Desktop/neuefische/fraud/.venv/lib/python3.9/site-packages/joblib/_parallel_backends.py?line=568'>569</a>\u001b[0m \u001b[39mdef\u001b[39;00m \u001b[39m__init__\u001b[39m(\u001b[39mself\u001b[39m, batch):\n\u001b[1;32m    <a href='file:///Users/corneliusbohle/Desktop/neuefische/fraud/.venv/lib/python3.9/site-packages/joblib/_parallel_backends.py?line=569'>570</a>\u001b[0m     \u001b[39m# Don't delay the application, to avoid keeping the input\u001b[39;00m\n\u001b[1;32m    <a href='file:///Users/corneliusbohle/Desktop/neuefische/fraud/.venv/lib/python3.9/site-packages/joblib/_parallel_backends.py?line=570'>571</a>\u001b[0m     \u001b[39m# arguments in memory\u001b[39;00m\n\u001b[0;32m--> <a href='file:///Users/corneliusbohle/Desktop/neuefische/fraud/.venv/lib/python3.9/site-packages/joblib/_parallel_backends.py?line=571'>572</a>\u001b[0m     \u001b[39mself\u001b[39m\u001b[39m.\u001b[39mresults \u001b[39m=\u001b[39m batch()\n",
      "File \u001b[0;32m~/Desktop/neuefische/fraud/.venv/lib/python3.9/site-packages/joblib/parallel.py:262\u001b[0m, in \u001b[0;36mBatchedCalls.__call__\u001b[0;34m(self)\u001b[0m\n\u001b[1;32m    <a href='file:///Users/corneliusbohle/Desktop/neuefische/fraud/.venv/lib/python3.9/site-packages/joblib/parallel.py?line=257'>258</a>\u001b[0m \u001b[39mdef\u001b[39;00m \u001b[39m__call__\u001b[39m(\u001b[39mself\u001b[39m):\n\u001b[1;32m    <a href='file:///Users/corneliusbohle/Desktop/neuefische/fraud/.venv/lib/python3.9/site-packages/joblib/parallel.py?line=258'>259</a>\u001b[0m     \u001b[39m# Set the default nested backend to self._backend but do not set the\u001b[39;00m\n\u001b[1;32m    <a href='file:///Users/corneliusbohle/Desktop/neuefische/fraud/.venv/lib/python3.9/site-packages/joblib/parallel.py?line=259'>260</a>\u001b[0m     \u001b[39m# change the default number of processes to -1\u001b[39;00m\n\u001b[1;32m    <a href='file:///Users/corneliusbohle/Desktop/neuefische/fraud/.venv/lib/python3.9/site-packages/joblib/parallel.py?line=260'>261</a>\u001b[0m     \u001b[39mwith\u001b[39;00m parallel_backend(\u001b[39mself\u001b[39m\u001b[39m.\u001b[39m_backend, n_jobs\u001b[39m=\u001b[39m\u001b[39mself\u001b[39m\u001b[39m.\u001b[39m_n_jobs):\n\u001b[0;32m--> <a href='file:///Users/corneliusbohle/Desktop/neuefische/fraud/.venv/lib/python3.9/site-packages/joblib/parallel.py?line=261'>262</a>\u001b[0m         \u001b[39mreturn\u001b[39;00m [func(\u001b[39m*\u001b[39margs, \u001b[39m*\u001b[39m\u001b[39m*\u001b[39mkwargs)\n\u001b[1;32m    <a href='file:///Users/corneliusbohle/Desktop/neuefische/fraud/.venv/lib/python3.9/site-packages/joblib/parallel.py?line=262'>263</a>\u001b[0m                 \u001b[39mfor\u001b[39;00m func, args, kwargs \u001b[39min\u001b[39;00m \u001b[39mself\u001b[39m\u001b[39m.\u001b[39mitems]\n",
      "File \u001b[0;32m~/Desktop/neuefische/fraud/.venv/lib/python3.9/site-packages/joblib/parallel.py:262\u001b[0m, in \u001b[0;36m<listcomp>\u001b[0;34m(.0)\u001b[0m\n\u001b[1;32m    <a href='file:///Users/corneliusbohle/Desktop/neuefische/fraud/.venv/lib/python3.9/site-packages/joblib/parallel.py?line=257'>258</a>\u001b[0m \u001b[39mdef\u001b[39;00m \u001b[39m__call__\u001b[39m(\u001b[39mself\u001b[39m):\n\u001b[1;32m    <a href='file:///Users/corneliusbohle/Desktop/neuefische/fraud/.venv/lib/python3.9/site-packages/joblib/parallel.py?line=258'>259</a>\u001b[0m     \u001b[39m# Set the default nested backend to self._backend but do not set the\u001b[39;00m\n\u001b[1;32m    <a href='file:///Users/corneliusbohle/Desktop/neuefische/fraud/.venv/lib/python3.9/site-packages/joblib/parallel.py?line=259'>260</a>\u001b[0m     \u001b[39m# change the default number of processes to -1\u001b[39;00m\n\u001b[1;32m    <a href='file:///Users/corneliusbohle/Desktop/neuefische/fraud/.venv/lib/python3.9/site-packages/joblib/parallel.py?line=260'>261</a>\u001b[0m     \u001b[39mwith\u001b[39;00m parallel_backend(\u001b[39mself\u001b[39m\u001b[39m.\u001b[39m_backend, n_jobs\u001b[39m=\u001b[39m\u001b[39mself\u001b[39m\u001b[39m.\u001b[39m_n_jobs):\n\u001b[0;32m--> <a href='file:///Users/corneliusbohle/Desktop/neuefische/fraud/.venv/lib/python3.9/site-packages/joblib/parallel.py?line=261'>262</a>\u001b[0m         \u001b[39mreturn\u001b[39;00m [func(\u001b[39m*\u001b[39;49margs, \u001b[39m*\u001b[39;49m\u001b[39m*\u001b[39;49mkwargs)\n\u001b[1;32m    <a href='file:///Users/corneliusbohle/Desktop/neuefische/fraud/.venv/lib/python3.9/site-packages/joblib/parallel.py?line=262'>263</a>\u001b[0m                 \u001b[39mfor\u001b[39;00m func, args, kwargs \u001b[39min\u001b[39;00m \u001b[39mself\u001b[39m\u001b[39m.\u001b[39mitems]\n",
      "File \u001b[0;32m~/Desktop/neuefische/fraud/.venv/lib/python3.9/site-packages/sklearn/utils/fixes.py:216\u001b[0m, in \u001b[0;36m_FuncWrapper.__call__\u001b[0;34m(self, *args, **kwargs)\u001b[0m\n\u001b[1;32m    <a href='file:///Users/corneliusbohle/Desktop/neuefische/fraud/.venv/lib/python3.9/site-packages/sklearn/utils/fixes.py?line=213'>214</a>\u001b[0m \u001b[39mdef\u001b[39;00m \u001b[39m__call__\u001b[39m(\u001b[39mself\u001b[39m, \u001b[39m*\u001b[39margs, \u001b[39m*\u001b[39m\u001b[39m*\u001b[39mkwargs):\n\u001b[1;32m    <a href='file:///Users/corneliusbohle/Desktop/neuefische/fraud/.venv/lib/python3.9/site-packages/sklearn/utils/fixes.py?line=214'>215</a>\u001b[0m     \u001b[39mwith\u001b[39;00m config_context(\u001b[39m*\u001b[39m\u001b[39m*\u001b[39m\u001b[39mself\u001b[39m\u001b[39m.\u001b[39mconfig):\n\u001b[0;32m--> <a href='file:///Users/corneliusbohle/Desktop/neuefische/fraud/.venv/lib/python3.9/site-packages/sklearn/utils/fixes.py?line=215'>216</a>\u001b[0m         \u001b[39mreturn\u001b[39;00m \u001b[39mself\u001b[39;49m\u001b[39m.\u001b[39;49mfunction(\u001b[39m*\u001b[39;49margs, \u001b[39m*\u001b[39;49m\u001b[39m*\u001b[39;49mkwargs)\n",
      "File \u001b[0;32m~/Desktop/neuefische/fraud/.venv/lib/python3.9/site-packages/sklearn/model_selection/_validation.py:1042\u001b[0m, in \u001b[0;36m_fit_and_predict\u001b[0;34m(estimator, X, y, train, test, verbose, fit_params, method)\u001b[0m\n\u001b[1;32m   <a href='file:///Users/corneliusbohle/Desktop/neuefische/fraud/.venv/lib/python3.9/site-packages/sklearn/model_selection/_validation.py?line=1038'>1039</a>\u001b[0m X_test, _ \u001b[39m=\u001b[39m _safe_split(estimator, X, y, test, train)\n\u001b[1;32m   <a href='file:///Users/corneliusbohle/Desktop/neuefische/fraud/.venv/lib/python3.9/site-packages/sklearn/model_selection/_validation.py?line=1040'>1041</a>\u001b[0m \u001b[39mif\u001b[39;00m y_train \u001b[39mis\u001b[39;00m \u001b[39mNone\u001b[39;00m:\n\u001b[0;32m-> <a href='file:///Users/corneliusbohle/Desktop/neuefische/fraud/.venv/lib/python3.9/site-packages/sklearn/model_selection/_validation.py?line=1041'>1042</a>\u001b[0m     estimator\u001b[39m.\u001b[39;49mfit(X_train, \u001b[39m*\u001b[39;49m\u001b[39m*\u001b[39;49mfit_params)\n\u001b[1;32m   <a href='file:///Users/corneliusbohle/Desktop/neuefische/fraud/.venv/lib/python3.9/site-packages/sklearn/model_selection/_validation.py?line=1042'>1043</a>\u001b[0m \u001b[39melse\u001b[39;00m:\n\u001b[1;32m   <a href='file:///Users/corneliusbohle/Desktop/neuefische/fraud/.venv/lib/python3.9/site-packages/sklearn/model_selection/_validation.py?line=1043'>1044</a>\u001b[0m     estimator\u001b[39m.\u001b[39mfit(X_train, y_train, \u001b[39m*\u001b[39m\u001b[39m*\u001b[39mfit_params)\n",
      "File \u001b[0;32m~/Desktop/neuefische/fraud/.venv/lib/python3.9/site-packages/sklearn/pipeline.py:390\u001b[0m, in \u001b[0;36mPipeline.fit\u001b[0;34m(self, X, y, **fit_params)\u001b[0m\n\u001b[1;32m    <a href='file:///Users/corneliusbohle/Desktop/neuefische/fraud/.venv/lib/python3.9/site-packages/sklearn/pipeline.py?line=363'>364</a>\u001b[0m \u001b[39m\"\"\"Fit the model.\u001b[39;00m\n\u001b[1;32m    <a href='file:///Users/corneliusbohle/Desktop/neuefische/fraud/.venv/lib/python3.9/site-packages/sklearn/pipeline.py?line=364'>365</a>\u001b[0m \n\u001b[1;32m    <a href='file:///Users/corneliusbohle/Desktop/neuefische/fraud/.venv/lib/python3.9/site-packages/sklearn/pipeline.py?line=365'>366</a>\u001b[0m \u001b[39mFit all the transformers one after the other and transform the\u001b[39;00m\n\u001b[0;32m   (...)\u001b[0m\n\u001b[1;32m    <a href='file:///Users/corneliusbohle/Desktop/neuefische/fraud/.venv/lib/python3.9/site-packages/sklearn/pipeline.py?line=386'>387</a>\u001b[0m \u001b[39m    Pipeline with fitted steps.\u001b[39;00m\n\u001b[1;32m    <a href='file:///Users/corneliusbohle/Desktop/neuefische/fraud/.venv/lib/python3.9/site-packages/sklearn/pipeline.py?line=387'>388</a>\u001b[0m \u001b[39m\"\"\"\u001b[39;00m\n\u001b[1;32m    <a href='file:///Users/corneliusbohle/Desktop/neuefische/fraud/.venv/lib/python3.9/site-packages/sklearn/pipeline.py?line=388'>389</a>\u001b[0m fit_params_steps \u001b[39m=\u001b[39m \u001b[39mself\u001b[39m\u001b[39m.\u001b[39m_check_fit_params(\u001b[39m*\u001b[39m\u001b[39m*\u001b[39mfit_params)\n\u001b[0;32m--> <a href='file:///Users/corneliusbohle/Desktop/neuefische/fraud/.venv/lib/python3.9/site-packages/sklearn/pipeline.py?line=389'>390</a>\u001b[0m Xt \u001b[39m=\u001b[39m \u001b[39mself\u001b[39;49m\u001b[39m.\u001b[39;49m_fit(X, y, \u001b[39m*\u001b[39;49m\u001b[39m*\u001b[39;49mfit_params_steps)\n\u001b[1;32m    <a href='file:///Users/corneliusbohle/Desktop/neuefische/fraud/.venv/lib/python3.9/site-packages/sklearn/pipeline.py?line=390'>391</a>\u001b[0m \u001b[39mwith\u001b[39;00m _print_elapsed_time(\u001b[39m\"\u001b[39m\u001b[39mPipeline\u001b[39m\u001b[39m\"\u001b[39m, \u001b[39mself\u001b[39m\u001b[39m.\u001b[39m_log_message(\u001b[39mlen\u001b[39m(\u001b[39mself\u001b[39m\u001b[39m.\u001b[39msteps) \u001b[39m-\u001b[39m \u001b[39m1\u001b[39m)):\n\u001b[1;32m    <a href='file:///Users/corneliusbohle/Desktop/neuefische/fraud/.venv/lib/python3.9/site-packages/sklearn/pipeline.py?line=391'>392</a>\u001b[0m     \u001b[39mif\u001b[39;00m \u001b[39mself\u001b[39m\u001b[39m.\u001b[39m_final_estimator \u001b[39m!=\u001b[39m \u001b[39m\"\u001b[39m\u001b[39mpassthrough\u001b[39m\u001b[39m\"\u001b[39m:\n",
      "File \u001b[0;32m~/Desktop/neuefische/fraud/.venv/lib/python3.9/site-packages/sklearn/pipeline.py:348\u001b[0m, in \u001b[0;36mPipeline._fit\u001b[0;34m(self, X, y, **fit_params_steps)\u001b[0m\n\u001b[1;32m    <a href='file:///Users/corneliusbohle/Desktop/neuefische/fraud/.venv/lib/python3.9/site-packages/sklearn/pipeline.py?line=345'>346</a>\u001b[0m     cloned_transformer \u001b[39m=\u001b[39m clone(transformer)\n\u001b[1;32m    <a href='file:///Users/corneliusbohle/Desktop/neuefische/fraud/.venv/lib/python3.9/site-packages/sklearn/pipeline.py?line=346'>347</a>\u001b[0m \u001b[39m# Fit or load from cache the current transformer\u001b[39;00m\n\u001b[0;32m--> <a href='file:///Users/corneliusbohle/Desktop/neuefische/fraud/.venv/lib/python3.9/site-packages/sklearn/pipeline.py?line=347'>348</a>\u001b[0m X, fitted_transformer \u001b[39m=\u001b[39m fit_transform_one_cached(\n\u001b[1;32m    <a href='file:///Users/corneliusbohle/Desktop/neuefische/fraud/.venv/lib/python3.9/site-packages/sklearn/pipeline.py?line=348'>349</a>\u001b[0m     cloned_transformer,\n\u001b[1;32m    <a href='file:///Users/corneliusbohle/Desktop/neuefische/fraud/.venv/lib/python3.9/site-packages/sklearn/pipeline.py?line=349'>350</a>\u001b[0m     X,\n\u001b[1;32m    <a href='file:///Users/corneliusbohle/Desktop/neuefische/fraud/.venv/lib/python3.9/site-packages/sklearn/pipeline.py?line=350'>351</a>\u001b[0m     y,\n\u001b[1;32m    <a href='file:///Users/corneliusbohle/Desktop/neuefische/fraud/.venv/lib/python3.9/site-packages/sklearn/pipeline.py?line=351'>352</a>\u001b[0m     \u001b[39mNone\u001b[39;49;00m,\n\u001b[1;32m    <a href='file:///Users/corneliusbohle/Desktop/neuefische/fraud/.venv/lib/python3.9/site-packages/sklearn/pipeline.py?line=352'>353</a>\u001b[0m     message_clsname\u001b[39m=\u001b[39;49m\u001b[39m\"\u001b[39;49m\u001b[39mPipeline\u001b[39;49m\u001b[39m\"\u001b[39;49m,\n\u001b[1;32m    <a href='file:///Users/corneliusbohle/Desktop/neuefische/fraud/.venv/lib/python3.9/site-packages/sklearn/pipeline.py?line=353'>354</a>\u001b[0m     message\u001b[39m=\u001b[39;49m\u001b[39mself\u001b[39;49m\u001b[39m.\u001b[39;49m_log_message(step_idx),\n\u001b[1;32m    <a href='file:///Users/corneliusbohle/Desktop/neuefische/fraud/.venv/lib/python3.9/site-packages/sklearn/pipeline.py?line=354'>355</a>\u001b[0m     \u001b[39m*\u001b[39;49m\u001b[39m*\u001b[39;49mfit_params_steps[name],\n\u001b[1;32m    <a href='file:///Users/corneliusbohle/Desktop/neuefische/fraud/.venv/lib/python3.9/site-packages/sklearn/pipeline.py?line=355'>356</a>\u001b[0m )\n\u001b[1;32m    <a href='file:///Users/corneliusbohle/Desktop/neuefische/fraud/.venv/lib/python3.9/site-packages/sklearn/pipeline.py?line=356'>357</a>\u001b[0m \u001b[39m# Replace the transformer of the step with the fitted\u001b[39;00m\n\u001b[1;32m    <a href='file:///Users/corneliusbohle/Desktop/neuefische/fraud/.venv/lib/python3.9/site-packages/sklearn/pipeline.py?line=357'>358</a>\u001b[0m \u001b[39m# transformer. This is necessary when loading the transformer\u001b[39;00m\n\u001b[1;32m    <a href='file:///Users/corneliusbohle/Desktop/neuefische/fraud/.venv/lib/python3.9/site-packages/sklearn/pipeline.py?line=358'>359</a>\u001b[0m \u001b[39m# from the cache.\u001b[39;00m\n\u001b[1;32m    <a href='file:///Users/corneliusbohle/Desktop/neuefische/fraud/.venv/lib/python3.9/site-packages/sklearn/pipeline.py?line=359'>360</a>\u001b[0m \u001b[39mself\u001b[39m\u001b[39m.\u001b[39msteps[step_idx] \u001b[39m=\u001b[39m (name, fitted_transformer)\n",
      "File \u001b[0;32m~/Desktop/neuefische/fraud/.venv/lib/python3.9/site-packages/joblib/memory.py:349\u001b[0m, in \u001b[0;36mNotMemorizedFunc.__call__\u001b[0;34m(self, *args, **kwargs)\u001b[0m\n\u001b[1;32m    <a href='file:///Users/corneliusbohle/Desktop/neuefische/fraud/.venv/lib/python3.9/site-packages/joblib/memory.py?line=347'>348</a>\u001b[0m \u001b[39mdef\u001b[39;00m \u001b[39m__call__\u001b[39m(\u001b[39mself\u001b[39m, \u001b[39m*\u001b[39margs, \u001b[39m*\u001b[39m\u001b[39m*\u001b[39mkwargs):\n\u001b[0;32m--> <a href='file:///Users/corneliusbohle/Desktop/neuefische/fraud/.venv/lib/python3.9/site-packages/joblib/memory.py?line=348'>349</a>\u001b[0m     \u001b[39mreturn\u001b[39;00m \u001b[39mself\u001b[39;49m\u001b[39m.\u001b[39;49mfunc(\u001b[39m*\u001b[39;49margs, \u001b[39m*\u001b[39;49m\u001b[39m*\u001b[39;49mkwargs)\n",
      "File \u001b[0;32m~/Desktop/neuefische/fraud/.venv/lib/python3.9/site-packages/sklearn/pipeline.py:893\u001b[0m, in \u001b[0;36m_fit_transform_one\u001b[0;34m(transformer, X, y, weight, message_clsname, message, **fit_params)\u001b[0m\n\u001b[1;32m    <a href='file:///Users/corneliusbohle/Desktop/neuefische/fraud/.venv/lib/python3.9/site-packages/sklearn/pipeline.py?line=890'>891</a>\u001b[0m \u001b[39mwith\u001b[39;00m _print_elapsed_time(message_clsname, message):\n\u001b[1;32m    <a href='file:///Users/corneliusbohle/Desktop/neuefische/fraud/.venv/lib/python3.9/site-packages/sklearn/pipeline.py?line=891'>892</a>\u001b[0m     \u001b[39mif\u001b[39;00m \u001b[39mhasattr\u001b[39m(transformer, \u001b[39m\"\u001b[39m\u001b[39mfit_transform\u001b[39m\u001b[39m\"\u001b[39m):\n\u001b[0;32m--> <a href='file:///Users/corneliusbohle/Desktop/neuefische/fraud/.venv/lib/python3.9/site-packages/sklearn/pipeline.py?line=892'>893</a>\u001b[0m         res \u001b[39m=\u001b[39m transformer\u001b[39m.\u001b[39;49mfit_transform(X, y, \u001b[39m*\u001b[39;49m\u001b[39m*\u001b[39;49mfit_params)\n\u001b[1;32m    <a href='file:///Users/corneliusbohle/Desktop/neuefische/fraud/.venv/lib/python3.9/site-packages/sklearn/pipeline.py?line=893'>894</a>\u001b[0m     \u001b[39melse\u001b[39;00m:\n\u001b[1;32m    <a href='file:///Users/corneliusbohle/Desktop/neuefische/fraud/.venv/lib/python3.9/site-packages/sklearn/pipeline.py?line=894'>895</a>\u001b[0m         res \u001b[39m=\u001b[39m transformer\u001b[39m.\u001b[39mfit(X, y, \u001b[39m*\u001b[39m\u001b[39m*\u001b[39mfit_params)\u001b[39m.\u001b[39mtransform(X)\n",
      "File \u001b[0;32m~/Desktop/neuefische/fraud/.venv/lib/python3.9/site-packages/sklearn/compose/_column_transformer.py:672\u001b[0m, in \u001b[0;36mColumnTransformer.fit_transform\u001b[0;34m(self, X, y)\u001b[0m\n\u001b[1;32m    <a href='file:///Users/corneliusbohle/Desktop/neuefische/fraud/.venv/lib/python3.9/site-packages/sklearn/compose/_column_transformer.py?line=669'>670</a>\u001b[0m \u001b[39mself\u001b[39m\u001b[39m.\u001b[39m_check_n_features(X, reset\u001b[39m=\u001b[39m\u001b[39mTrue\u001b[39;00m)\n\u001b[1;32m    <a href='file:///Users/corneliusbohle/Desktop/neuefische/fraud/.venv/lib/python3.9/site-packages/sklearn/compose/_column_transformer.py?line=670'>671</a>\u001b[0m \u001b[39mself\u001b[39m\u001b[39m.\u001b[39m_validate_transformers()\n\u001b[0;32m--> <a href='file:///Users/corneliusbohle/Desktop/neuefische/fraud/.venv/lib/python3.9/site-packages/sklearn/compose/_column_transformer.py?line=671'>672</a>\u001b[0m \u001b[39mself\u001b[39;49m\u001b[39m.\u001b[39;49m_validate_column_callables(X)\n\u001b[1;32m    <a href='file:///Users/corneliusbohle/Desktop/neuefische/fraud/.venv/lib/python3.9/site-packages/sklearn/compose/_column_transformer.py?line=672'>673</a>\u001b[0m \u001b[39mself\u001b[39m\u001b[39m.\u001b[39m_validate_remainder(X)\n\u001b[1;32m    <a href='file:///Users/corneliusbohle/Desktop/neuefische/fraud/.venv/lib/python3.9/site-packages/sklearn/compose/_column_transformer.py?line=674'>675</a>\u001b[0m result \u001b[39m=\u001b[39m \u001b[39mself\u001b[39m\u001b[39m.\u001b[39m_fit_transform(X, y, _fit_transform_one)\n",
      "File \u001b[0;32m~/Desktop/neuefische/fraud/.venv/lib/python3.9/site-packages/sklearn/compose/_column_transformer.py:352\u001b[0m, in \u001b[0;36mColumnTransformer._validate_column_callables\u001b[0;34m(self, X)\u001b[0m\n\u001b[1;32m    <a href='file:///Users/corneliusbohle/Desktop/neuefische/fraud/.venv/lib/python3.9/site-packages/sklearn/compose/_column_transformer.py?line=349'>350</a>\u001b[0m         columns \u001b[39m=\u001b[39m columns(X)\n\u001b[1;32m    <a href='file:///Users/corneliusbohle/Desktop/neuefische/fraud/.venv/lib/python3.9/site-packages/sklearn/compose/_column_transformer.py?line=350'>351</a>\u001b[0m     all_columns\u001b[39m.\u001b[39mappend(columns)\n\u001b[0;32m--> <a href='file:///Users/corneliusbohle/Desktop/neuefische/fraud/.venv/lib/python3.9/site-packages/sklearn/compose/_column_transformer.py?line=351'>352</a>\u001b[0m     transformer_to_input_indices[name] \u001b[39m=\u001b[39m _get_column_indices(X, columns)\n\u001b[1;32m    <a href='file:///Users/corneliusbohle/Desktop/neuefische/fraud/.venv/lib/python3.9/site-packages/sklearn/compose/_column_transformer.py?line=353'>354</a>\u001b[0m \u001b[39mself\u001b[39m\u001b[39m.\u001b[39m_columns \u001b[39m=\u001b[39m all_columns\n\u001b[1;32m    <a href='file:///Users/corneliusbohle/Desktop/neuefische/fraud/.venv/lib/python3.9/site-packages/sklearn/compose/_column_transformer.py?line=354'>355</a>\u001b[0m \u001b[39mself\u001b[39m\u001b[39m.\u001b[39m_transformer_to_input_indices \u001b[39m=\u001b[39m transformer_to_input_indices\n",
      "File \u001b[0;32m~/Desktop/neuefische/fraud/.venv/lib/python3.9/site-packages/sklearn/utils/__init__.py:391\u001b[0m, in \u001b[0;36m_get_column_indices\u001b[0;34m(X, key)\u001b[0m\n\u001b[1;32m    <a href='file:///Users/corneliusbohle/Desktop/neuefische/fraud/.venv/lib/python3.9/site-packages/sklearn/utils/__init__.py?line=383'>384</a>\u001b[0m \u001b[39m\"\"\"Get feature column indices for input data X and key.\u001b[39;00m\n\u001b[1;32m    <a href='file:///Users/corneliusbohle/Desktop/neuefische/fraud/.venv/lib/python3.9/site-packages/sklearn/utils/__init__.py?line=384'>385</a>\u001b[0m \n\u001b[1;32m    <a href='file:///Users/corneliusbohle/Desktop/neuefische/fraud/.venv/lib/python3.9/site-packages/sklearn/utils/__init__.py?line=385'>386</a>\u001b[0m \u001b[39mFor accepted values of `key`, see the docstring of\u001b[39;00m\n\u001b[1;32m    <a href='file:///Users/corneliusbohle/Desktop/neuefische/fraud/.venv/lib/python3.9/site-packages/sklearn/utils/__init__.py?line=386'>387</a>\u001b[0m \u001b[39m:func:`_safe_indexing_column`.\u001b[39;00m\n\u001b[1;32m    <a href='file:///Users/corneliusbohle/Desktop/neuefische/fraud/.venv/lib/python3.9/site-packages/sklearn/utils/__init__.py?line=387'>388</a>\u001b[0m \u001b[39m\"\"\"\u001b[39;00m\n\u001b[1;32m    <a href='file:///Users/corneliusbohle/Desktop/neuefische/fraud/.venv/lib/python3.9/site-packages/sklearn/utils/__init__.py?line=388'>389</a>\u001b[0m n_columns \u001b[39m=\u001b[39m X\u001b[39m.\u001b[39mshape[\u001b[39m1\u001b[39m]\n\u001b[0;32m--> <a href='file:///Users/corneliusbohle/Desktop/neuefische/fraud/.venv/lib/python3.9/site-packages/sklearn/utils/__init__.py?line=390'>391</a>\u001b[0m key_dtype \u001b[39m=\u001b[39m _determine_key_type(key)\n\u001b[1;32m    <a href='file:///Users/corneliusbohle/Desktop/neuefische/fraud/.venv/lib/python3.9/site-packages/sklearn/utils/__init__.py?line=392'>393</a>\u001b[0m \u001b[39mif\u001b[39;00m \u001b[39misinstance\u001b[39m(key, (\u001b[39mlist\u001b[39m, \u001b[39mtuple\u001b[39m)) \u001b[39mand\u001b[39;00m \u001b[39mnot\u001b[39;00m key:\n\u001b[1;32m    <a href='file:///Users/corneliusbohle/Desktop/neuefische/fraud/.venv/lib/python3.9/site-packages/sklearn/utils/__init__.py?line=393'>394</a>\u001b[0m     \u001b[39m# we get an empty list\u001b[39;00m\n\u001b[1;32m    <a href='file:///Users/corneliusbohle/Desktop/neuefische/fraud/.venv/lib/python3.9/site-packages/sklearn/utils/__init__.py?line=394'>395</a>\u001b[0m     \u001b[39mreturn\u001b[39;00m []\n",
      "File \u001b[0;32m~/Desktop/neuefische/fraud/.venv/lib/python3.9/site-packages/sklearn/utils/__init__.py:292\u001b[0m, in \u001b[0;36m_determine_key_type\u001b[0;34m(key, accept_slice)\u001b[0m\n\u001b[1;32m    <a href='file:///Users/corneliusbohle/Desktop/neuefische/fraud/.venv/lib/python3.9/site-packages/sklearn/utils/__init__.py?line=289'>290</a>\u001b[0m     \u001b[39mreturn\u001b[39;00m key_stop_type\n\u001b[1;32m    <a href='file:///Users/corneliusbohle/Desktop/neuefische/fraud/.venv/lib/python3.9/site-packages/sklearn/utils/__init__.py?line=290'>291</a>\u001b[0m \u001b[39mif\u001b[39;00m \u001b[39misinstance\u001b[39m(key, (\u001b[39mlist\u001b[39m, \u001b[39mtuple\u001b[39m)):\n\u001b[0;32m--> <a href='file:///Users/corneliusbohle/Desktop/neuefische/fraud/.venv/lib/python3.9/site-packages/sklearn/utils/__init__.py?line=291'>292</a>\u001b[0m     unique_key \u001b[39m=\u001b[39m \u001b[39mset\u001b[39;49m(key)\n\u001b[1;32m    <a href='file:///Users/corneliusbohle/Desktop/neuefische/fraud/.venv/lib/python3.9/site-packages/sklearn/utils/__init__.py?line=292'>293</a>\u001b[0m     key_type \u001b[39m=\u001b[39m {_determine_key_type(elt) \u001b[39mfor\u001b[39;00m elt \u001b[39min\u001b[39;00m unique_key}\n\u001b[1;32m    <a href='file:///Users/corneliusbohle/Desktop/neuefische/fraud/.venv/lib/python3.9/site-packages/sklearn/utils/__init__.py?line=293'>294</a>\u001b[0m     \u001b[39mif\u001b[39;00m \u001b[39mnot\u001b[39;00m key_type:\n",
      "\u001b[0;31mTypeError\u001b[0m: unhashable type: 'list'"
     ]
    }
   ],
   "source": [
    "y_train_predicted = cross_val_predict(pipe_rf, X, cv=5)"
   ]
  }
 ],
 "metadata": {
  "interpreter": {
   "hash": "dbe5cfd5eaed67047969df9a92e9113d5fdea4fa5ae4670046d848b152f0797b"
  },
  "kernelspec": {
   "display_name": "Python 3.9.4 ('.venv': venv)",
   "language": "python",
   "name": "python3"
  },
  "language_info": {
   "codemirror_mode": {
    "name": "ipython",
    "version": 3
   },
   "file_extension": ".py",
   "mimetype": "text/x-python",
   "name": "python",
   "nbconvert_exporter": "python",
   "pygments_lexer": "ipython3",
   "version": "3.9.4"
  },
  "orig_nbformat": 4
 },
 "nbformat": 4,
 "nbformat_minor": 2
}
