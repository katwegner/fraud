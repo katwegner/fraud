{
 "cells": [
  {
   "cell_type": "code",
   "execution_count": 3,
   "metadata": {},
   "outputs": [],
   "source": [
    "import pandas as pd\n",
    "import numpy as np\n",
    "import seaborn as sns\n",
    "import matplotlib.pyplot as plt\n",
    "from datetime import datetime, date, time, timedelta\n",
    "from sklearn.metrics import accuracy_score, precision_score, recall_score, f1_score, roc_auc_score, roc_curve\n",
    "from sklearn.model_selection import train_test_split\n",
    "#importing over and undersampling algorithms from imblearn (you will have to manually install it in your envoirenment with pip install imblearn) \n",
    "from imblearn.over_sampling import SMOTE\n",
    "from imblearn.under_sampling import RandomUnderSampler\n",
    "from sklearn.metrics import confusion_matrix\n",
    "import itertools\n",
    "from sklearn.svm import SVC\n",
    "from sklearn.ensemble import AdaBoostClassifier\n",
    "from sklearn import preprocessing"
   ]
  },
  {
   "cell_type": "code",
   "execution_count": 16,
   "metadata": {},
   "outputs": [
    {
     "data": {
      "text/plain": [
       "Index(['Value', 'DirectionOfMoney', 'ProviderId_0', 'ProviderId_1',\n",
       "       'ProviderId_2', 'ProviderId_3', 'ProviderId_4', 'ProviderId_5',\n",
       "       'ProductId_0', 'ProductId_1', 'ProductId_2', 'ProductId_3',\n",
       "       'ProductId_4', 'ProductId_5', 'ProductId_6', 'ProductId_7',\n",
       "       'ProductId_8', 'ProductId_9', 'ProductId_10', 'ProductId_11',\n",
       "       'ProductId_12', 'ProductId_13', 'ProductId_14', 'ProductId_15',\n",
       "       'ProductId_16', 'ProductId_17', 'ProductId_18', 'ProductId_19',\n",
       "       'ProductId_20', 'ProductId_21', 'ProductId_22', 'ChannelId_0',\n",
       "       'ChannelId_1', 'ChannelId_2', 'ChannelId_3', 'ProductCategory_0',\n",
       "       'ProductCategory_1', 'ProductCategory_2', 'ProductCategory_3',\n",
       "       'ProductCategory_4', 'ProductCategory_5', 'ProductCategory_6',\n",
       "       'ProductCategory_7', 'ProductCategory_8', 'PricingStrategy_0',\n",
       "       'PricingStrategy_1', 'PricingStrategy_2', 'PricingStrategy_3', 'Hour_0',\n",
       "       'Hour_1', 'Hour_2', 'Hour_3', 'Hour_4', 'Hour_5', 'Hour_6', 'Hour_7',\n",
       "       'Hour_8', 'Hour_9', 'Hour_10', 'Hour_11', 'Hour_12', 'Hour_13',\n",
       "       'Hour_14', 'Hour_15', 'Hour_16', 'Hour_17', 'Hour_18', 'Hour_19',\n",
       "       'Hour_20', 'Hour_21', 'Hour_22', 'Hour_23', 'ProductId_23',\n",
       "       'ProductId_24', 'ProductId_25', 'ChannelId_4'],\n",
       "      dtype='object')"
      ]
     },
     "execution_count": 16,
     "metadata": {},
     "output_type": "execute_result"
    }
   ],
   "source": [
    "data = pd.read_csv('./data/training.csv')\n",
    "\n",
    "\n",
    "# Convert time to datatime format\n",
    "data['TransactionStartTime'] = pd.to_datetime(data['TransactionStartTime'], format='%Y-%m-%dT%H:%M:%SZ')\n",
    "data['Hour'] = data['TransactionStartTime'].dt.hour\n",
    "#data['Month'] = data['TransactionStartTime'].dt.month\n",
    "\n",
    "#Creating a new variable\n",
    "data.loc[data['Amount'] >= 0, 'DirectionOfMoney'] = 0\n",
    "data.loc[data['Amount'] < 0, 'DirectionOfMoney'] = 1\n",
    "\n",
    "#Creating the final dataset\n",
    "\n",
    "le = preprocessing.LabelEncoder()\n",
    "\n",
    "\n",
    "# choose categorical variables\n",
    "cat_var = [ 'ProviderId', 'ProductId', 'ChannelId', 'ProductCategory', 'PricingStrategy', 'Hour'] # '\n",
    "\n",
    "columns = data[cat_var].columns.tolist()\n",
    "\n",
    "for each in columns:\n",
    "    data[each] = le.fit_transform(data[each])#\n",
    "\n",
    "df = data.drop(['FraudResult','Amount','TransactionId', 'BatchId', 'AccountId', 'SubscriptionId', 'CustomerId', 'CurrencyCode', 'CountryCode', 'TransactionStartTime'], axis=1,)\n",
    "df = pd.get_dummies(df, columns=cat_var)\n",
    "\n",
    "df['ProductId_23'] = 0\n",
    "df['ProductId_24'] = 0\n",
    "df['ProductId_25'] = 0\n",
    "df['ChannelId_4'] = 0\n",
    "\n",
    "#defining X and y\n",
    "X = df\n",
    "y = data['FraudResult']\n",
    "X.to_csv(\"data/X_.csv\")  \n",
    "y.to_csv(\"data/y_.csv\") \n",
    "X.columns"
   ]
  },
  {
   "cell_type": "code",
   "execution_count": 27,
   "metadata": {},
   "outputs": [
    {
     "name": "stdout",
     "output_type": "stream",
     "text": [
      "Accuracy: 0.9979824799816019\n",
      "Precision: 0.0\n",
      "Recall: 0.0\n",
      "F1: 0.0\n",
      "0\n"
     ]
    },
    {
     "name": "stderr",
     "output_type": "stream",
     "text": [
      "/Users/corneliusbohle/Desktop/neuefische/fraud/.venv/lib/python3.9/site-packages/sklearn/metrics/_classification.py:1318: UndefinedMetricWarning: Precision is ill-defined and being set to 0.0 due to no predicted samples. Use `zero_division` parameter to control this behavior.\n",
      "  _warn_prf(average, modifier, msg_start, len(result))\n"
     ]
    }
   ],
   "source": [
    "condition1 = df['ProductCategory_2'] == 1\n",
    "condition2 = df['DirectionOfMoney'] == 0.0\n",
    "condition3 = df['ChannelId_2'] == 1\n",
    "condition4 = (df['PricingStrategy_0'] == 1) | (df['PricingStrategy_2'] == 1)\n",
    "condition5 = df[\"ProductId_6\"] == 1\n",
    "condition6 = (df['ProviderId_1'] == 1) | (df['ProviderId_3'] == 1)| (df['ProviderId_5'] == 1)\n",
    "condition7 = df['Value'] >= 200000\n",
    "predictions = condition1 & condition2 & condition3 & condition4 & condition5 & condition6 & condition7\n",
    "pred = []\n",
    "for i in predictions:\n",
    "    if i == True:\n",
    "        pred.append(1)\n",
    "    else:\n",
    "        pred.append(0)\n",
    "#printing scores for baseline\n",
    "print_evaluations(y, predictions)\n",
    "print(sum(pred))"
   ]
  },
  {
   "cell_type": "code",
   "execution_count": 19,
   "metadata": {},
   "outputs": [],
   "source": [
    "def print_evaluations(y,predictions):\n",
    "    print(f\"Accuracy: {accuracy_score(y, predictions)}\")\n",
    "    print(f\"Precision: {precision_score(y, predictions)}\")\n",
    "    print(f\"Recall: {recall_score(y, predictions)}\")\n",
    "    print(f\"F1: {f1_score(y, predictions)}\")"
   ]
  }
 ],
 "metadata": {
  "interpreter": {
   "hash": "dbe5cfd5eaed67047969df9a92e9113d5fdea4fa5ae4670046d848b152f0797b"
  },
  "kernelspec": {
   "display_name": "Python 3.9.4 ('.venv': venv)",
   "language": "python",
   "name": "python3"
  },
  "language_info": {
   "codemirror_mode": {
    "name": "ipython",
    "version": 3
   },
   "file_extension": ".py",
   "mimetype": "text/x-python",
   "name": "python",
   "nbconvert_exporter": "python",
   "pygments_lexer": "ipython3",
   "version": "3.9.4"
  },
  "orig_nbformat": 4
 },
 "nbformat": 4,
 "nbformat_minor": 2
}
